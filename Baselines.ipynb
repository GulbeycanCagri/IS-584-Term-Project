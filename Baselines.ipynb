{
 "cells": [
  {
   "cell_type": "code",
   "execution_count": 1,
   "id": "61bf97d4-61b9-4f0e-8d06-ef48ba40dd4d",
   "metadata": {},
   "outputs": [
    {
     "name": "stdout",
     "output_type": "stream",
     "text": [
      "Defaulting to user installation because normal site-packages is not writeable\n",
      "Requirement already satisfied: pandas in /home/cagri/.local/lib/python3.12/site-packages (2.2.3)\n",
      "Requirement already satisfied: scikit-learn in /home/cagri/.local/lib/python3.12/site-packages (1.6.1)\n",
      "Requirement already satisfied: sentence-transformers in /home/cagri/.local/lib/python3.12/site-packages (4.1.0)\n",
      "Requirement already satisfied: joblib in /home/cagri/.local/lib/python3.12/site-packages (1.5.0)\n",
      "Requirement already satisfied: numpy>=1.26.0 in /home/cagri/.local/lib/python3.12/site-packages (from pandas) (2.2.6)\n",
      "Requirement already satisfied: python-dateutil>=2.8.2 in /home/cagri/.local/lib/python3.12/site-packages (from pandas) (2.9.0.post0)\n",
      "Requirement already satisfied: pytz>=2020.1 in /usr/lib/python3/dist-packages (from pandas) (2024.1)\n",
      "Requirement already satisfied: tzdata>=2022.7 in /home/cagri/.local/lib/python3.12/site-packages (from pandas) (2025.2)\n",
      "Requirement already satisfied: scipy>=1.6.0 in /home/cagri/.local/lib/python3.12/site-packages (from scikit-learn) (1.15.3)\n",
      "Requirement already satisfied: threadpoolctl>=3.1.0 in /home/cagri/.local/lib/python3.12/site-packages (from scikit-learn) (3.6.0)\n",
      "Requirement already satisfied: transformers<5.0.0,>=4.41.0 in /home/cagri/.local/lib/python3.12/site-packages (from sentence-transformers) (4.52.0)\n",
      "Requirement already satisfied: tqdm in /home/cagri/.local/lib/python3.12/site-packages (from sentence-transformers) (4.67.1)\n",
      "Requirement already satisfied: torch>=1.11.0 in /home/cagri/.local/lib/python3.12/site-packages (from sentence-transformers) (2.7.0)\n",
      "Requirement already satisfied: huggingface-hub>=0.20.0 in /home/cagri/.local/lib/python3.12/site-packages (from sentence-transformers) (0.31.4)\n",
      "Requirement already satisfied: Pillow in /usr/lib/python3/dist-packages (from sentence-transformers) (10.2.0)\n",
      "Requirement already satisfied: typing_extensions>=4.5.0 in /home/cagri/.local/lib/python3.12/site-packages (from sentence-transformers) (4.13.2)\n",
      "Requirement already satisfied: filelock in /home/cagri/.local/lib/python3.12/site-packages (from huggingface-hub>=0.20.0->sentence-transformers) (3.18.0)\n",
      "Requirement already satisfied: fsspec>=2023.5.0 in /home/cagri/.local/lib/python3.12/site-packages (from huggingface-hub>=0.20.0->sentence-transformers) (2025.3.0)\n",
      "Requirement already satisfied: packaging>=20.9 in /home/cagri/.local/lib/python3.12/site-packages (from huggingface-hub>=0.20.0->sentence-transformers) (25.0)\n",
      "Requirement already satisfied: pyyaml>=5.1 in /home/cagri/.local/lib/python3.12/site-packages (from huggingface-hub>=0.20.0->sentence-transformers) (6.0.2)\n",
      "Requirement already satisfied: requests in /home/cagri/.local/lib/python3.12/site-packages (from huggingface-hub>=0.20.0->sentence-transformers) (2.32.3)\n",
      "Requirement already satisfied: six>=1.5 in /home/cagri/.local/lib/python3.12/site-packages (from python-dateutil>=2.8.2->pandas) (1.17.0)\n",
      "Requirement already satisfied: setuptools in /home/cagri/.local/lib/python3.12/site-packages (from torch>=1.11.0->sentence-transformers) (80.7.1)\n",
      "Requirement already satisfied: sympy>=1.13.3 in /home/cagri/.local/lib/python3.12/site-packages (from torch>=1.11.0->sentence-transformers) (1.14.0)\n",
      "Requirement already satisfied: networkx in /home/cagri/.local/lib/python3.12/site-packages (from torch>=1.11.0->sentence-transformers) (3.4.2)\n",
      "Requirement already satisfied: jinja2 in /home/cagri/.local/lib/python3.12/site-packages (from torch>=1.11.0->sentence-transformers) (3.1.6)\n",
      "Requirement already satisfied: nvidia-cuda-nvrtc-cu12==12.6.77 in /home/cagri/.local/lib/python3.12/site-packages (from torch>=1.11.0->sentence-transformers) (12.6.77)\n",
      "Requirement already satisfied: nvidia-cuda-runtime-cu12==12.6.77 in /home/cagri/.local/lib/python3.12/site-packages (from torch>=1.11.0->sentence-transformers) (12.6.77)\n",
      "Requirement already satisfied: nvidia-cuda-cupti-cu12==12.6.80 in /home/cagri/.local/lib/python3.12/site-packages (from torch>=1.11.0->sentence-transformers) (12.6.80)\n",
      "Requirement already satisfied: nvidia-cudnn-cu12==9.5.1.17 in /home/cagri/.local/lib/python3.12/site-packages (from torch>=1.11.0->sentence-transformers) (9.5.1.17)\n",
      "Requirement already satisfied: nvidia-cublas-cu12==12.6.4.1 in /home/cagri/.local/lib/python3.12/site-packages (from torch>=1.11.0->sentence-transformers) (12.6.4.1)\n",
      "Requirement already satisfied: nvidia-cufft-cu12==11.3.0.4 in /home/cagri/.local/lib/python3.12/site-packages (from torch>=1.11.0->sentence-transformers) (11.3.0.4)\n",
      "Requirement already satisfied: nvidia-curand-cu12==10.3.7.77 in /home/cagri/.local/lib/python3.12/site-packages (from torch>=1.11.0->sentence-transformers) (10.3.7.77)\n",
      "Requirement already satisfied: nvidia-cusolver-cu12==11.7.1.2 in /home/cagri/.local/lib/python3.12/site-packages (from torch>=1.11.0->sentence-transformers) (11.7.1.2)\n",
      "Requirement already satisfied: nvidia-cusparse-cu12==12.5.4.2 in /home/cagri/.local/lib/python3.12/site-packages (from torch>=1.11.0->sentence-transformers) (12.5.4.2)\n",
      "Requirement already satisfied: nvidia-cusparselt-cu12==0.6.3 in /home/cagri/.local/lib/python3.12/site-packages (from torch>=1.11.0->sentence-transformers) (0.6.3)\n",
      "Requirement already satisfied: nvidia-nccl-cu12==2.26.2 in /home/cagri/.local/lib/python3.12/site-packages (from torch>=1.11.0->sentence-transformers) (2.26.2)\n",
      "Requirement already satisfied: nvidia-nvtx-cu12==12.6.77 in /home/cagri/.local/lib/python3.12/site-packages (from torch>=1.11.0->sentence-transformers) (12.6.77)\n",
      "Requirement already satisfied: nvidia-nvjitlink-cu12==12.6.85 in /home/cagri/.local/lib/python3.12/site-packages (from torch>=1.11.0->sentence-transformers) (12.6.85)\n",
      "Requirement already satisfied: nvidia-cufile-cu12==1.11.1.6 in /home/cagri/.local/lib/python3.12/site-packages (from torch>=1.11.0->sentence-transformers) (1.11.1.6)\n",
      "Requirement already satisfied: triton==3.3.0 in /home/cagri/.local/lib/python3.12/site-packages (from torch>=1.11.0->sentence-transformers) (3.3.0)\n",
      "Requirement already satisfied: regex!=2019.12.17 in /home/cagri/.local/lib/python3.12/site-packages (from transformers<5.0.0,>=4.41.0->sentence-transformers) (2024.11.6)\n",
      "Requirement already satisfied: tokenizers<0.22,>=0.21 in /home/cagri/.local/lib/python3.12/site-packages (from transformers<5.0.0,>=4.41.0->sentence-transformers) (0.21.1)\n",
      "Requirement already satisfied: safetensors>=0.4.3 in /home/cagri/.local/lib/python3.12/site-packages (from transformers<5.0.0,>=4.41.0->sentence-transformers) (0.5.3)\n",
      "Requirement already satisfied: mpmath<1.4,>=1.1.0 in /home/cagri/.local/lib/python3.12/site-packages (from sympy>=1.13.3->torch>=1.11.0->sentence-transformers) (1.3.0)\n",
      "Requirement already satisfied: MarkupSafe>=2.0 in /home/cagri/.local/lib/python3.12/site-packages (from jinja2->torch>=1.11.0->sentence-transformers) (3.0.2)\n",
      "Requirement already satisfied: charset-normalizer<4,>=2 in /home/cagri/.local/lib/python3.12/site-packages (from requests->huggingface-hub>=0.20.0->sentence-transformers) (3.4.2)\n",
      "Requirement already satisfied: idna<4,>=2.5 in /home/cagri/.local/lib/python3.12/site-packages (from requests->huggingface-hub>=0.20.0->sentence-transformers) (3.10)\n",
      "Requirement already satisfied: urllib3<3,>=1.21.1 in /home/cagri/.local/lib/python3.12/site-packages (from requests->huggingface-hub>=0.20.0->sentence-transformers) (2.4.0)\n",
      "Requirement already satisfied: certifi>=2017.4.17 in /home/cagri/.local/lib/python3.12/site-packages (from requests->huggingface-hub>=0.20.0->sentence-transformers) (2025.4.26)\n"
     ]
    }
   ],
   "source": [
    "!pip install pandas scikit-learn sentence-transformers joblib --break-system-packages"
   ]
  },
  {
   "cell_type": "code",
   "execution_count": 2,
   "id": "1cbaa5e9-d399-49ed-a10d-cceedb1f1ff6",
   "metadata": {},
   "outputs": [
    {
     "name": "stdout",
     "output_type": "stream",
     "text": [
      "Total samples: 5178\n"
     ]
    }
   ],
   "source": [
    "import os\n",
    "import json\n",
    "import torch\n",
    "import random\n",
    "import numpy as np\n",
    "import pandas as pd\n",
    "from sklearn.model_selection import train_test_split\n",
    "from sklearn.metrics import accuracy_score, classification_report\n",
    "from sklearn.linear_model import LogisticRegression\n",
    "from sklearn.feature_extraction.text import TfidfVectorizer\n",
    "from sklearn.pipeline import make_pipeline\n",
    "from sentence_transformers import SentenceTransformer\n",
    "import joblib\n",
    "# Data preparation\n",
    "# Set global seed\n",
    "SEED = 42\n",
    "torch.manual_seed(SEED)\n",
    "random.seed(SEED)\n",
    "np.random.seed(SEED)\n",
    "\n",
    "def parse_reviews_to_dataframe(dataset_dir):\n",
    "    records = []\n",
    "\n",
    "    for year_dir in os.listdir(dataset_dir):\n",
    "        year_path = os.path.join(dataset_dir, year_dir)\n",
    "        if not os.path.isdir(year_path):\n",
    "            continue\n",
    "\n",
    "        review_dir = os.path.join(year_path, f\"{year_dir}_review\")\n",
    "        if not os.path.exists(review_dir):\n",
    "            continue\n",
    "\n",
    "        for fname in os.listdir(review_dir):\n",
    "            if not (fname.endswith(\".json\") and \"ICLR\" in fname):\n",
    "                continue\n",
    "\n",
    "            file_path = os.path.join(review_dir, fname)\n",
    "            with open(file_path, \"r\") as f:\n",
    "                try:\n",
    "                    data = json.load(f)\n",
    "                except Exception as e:\n",
    "                    print(f\"Failed to parse {file_path}: {e}\")\n",
    "                    continue\n",
    "\n",
    "            paper_id = data.get(\"id\", fname.replace(\".json\", \"\"))\n",
    "            meta_review = data.get(\"metaReview\", \"\")\n",
    "            reviews = data.get(\"reviews\", [])\n",
    "\n",
    "            review_texts = []\n",
    "            rating_scores = []\n",
    "\n",
    "            for review in reviews:\n",
    "                review_text = review.get(\"review\", \"\")\n",
    "                rating_raw = review.get(\"rating\", \"\")\n",
    "                try:\n",
    "                    rating_score = int(rating_raw.split(\":\")[0].strip())\n",
    "                    rating_scores.append(rating_score)\n",
    "                except Exception as e:\n",
    "                    print(f\"Invalid rating. Error is e: {e}\")\n",
    "\n",
    "                review_texts.append(review_text)\n",
    "\n",
    "            full_text = \" \".join(review_texts + [meta_review]).strip()\n",
    "            if len(rating_scores) == 0:\n",
    "                continue  # skip if no valid rating\n",
    "            avg_rating = sum(rating_scores) / len(rating_scores)\n",
    "            label = 1 if avg_rating >= 6 else 0\n",
    "\n",
    "            records.append({\n",
    "                \"paper_id\": paper_id,\n",
    "                \"text\": full_text,\n",
    "                \"avg_rating\": avg_rating,\n",
    "                \"label\": label\n",
    "            })\n",
    "\n",
    "    return pd.DataFrame(records)\n",
    "\n",
    "df = parse_reviews_to_dataframe(\"dataset\")  # <- Your dataset folder path\n",
    "print(f\"Total samples: {len(df)}\")\n",
    "\n",
    "train_df, temp_df = train_test_split(df, test_size=0.2, stratify=df[\"label\"], random_state=SEED)\n",
    "val_df, test_df = train_test_split(temp_df, test_size=0.5, stratify=temp_df[\"label\"], random_state=SEED)"
   ]
  },
  {
   "cell_type": "code",
   "execution_count": 3,
   "id": "1e9c093d-1763-48f9-bc3b-af10c9dd84fa",
   "metadata": {},
   "outputs": [
    {
     "name": "stdout",
     "output_type": "stream",
     "text": [
      "Majority Class Baseline Accuracy: 0.6737\n"
     ]
    }
   ],
   "source": [
    "# Majority Class\n",
    "majority_label = train_df[\"label\"].mode()[0]\n",
    "majority_preds = [majority_label] * len(test_df)\n",
    "majority_acc = accuracy_score(test_df[\"label\"], majority_preds)\n",
    "print(f\"Majority Class Baseline Accuracy: {majority_acc:.4f}\")"
   ]
  },
  {
   "cell_type": "code",
   "execution_count": 4,
   "id": "9ea533f5-ffb7-4de5-920a-acb0ff02b85c",
   "metadata": {},
   "outputs": [
    {
     "name": "stdout",
     "output_type": "stream",
     "text": [
      "\n",
      " Training TF-IDF + Logistic Regression baseline...\n",
      "TF-IDF + Logistic Regression Accuracy: 0.7259\n",
      "              precision    recall  f1-score   support\n",
      "\n",
      "           0       0.72      0.99      0.83       349\n",
      "           1       0.86      0.19      0.31       169\n",
      "\n",
      "    accuracy                           0.73       518\n",
      "   macro avg       0.79      0.59      0.57       518\n",
      "weighted avg       0.76      0.73      0.66       518\n",
      "\n"
     ]
    }
   ],
   "source": [
    "# TF-IDF + Logistic Regression\n",
    "print(\"\\n Training TF-IDF + Logistic Regression baseline...\")\n",
    "tfidf_model = make_pipeline(\n",
    "    TfidfVectorizer(max_features=10000),\n",
    "    LogisticRegression(max_iter=1000, random_state=SEED)\n",
    ")\n",
    "tfidf_model.fit(train_df[\"text\"], train_df[\"label\"])\n",
    "tfidf_preds = tfidf_model.predict(test_df[\"text\"])\n",
    "tfidf_acc = accuracy_score(test_df[\"label\"], tfidf_preds)\n",
    "print(f\"TF-IDF + Logistic Regression Accuracy: {tfidf_acc:.4f}\")\n",
    "print(classification_report(test_df[\"label\"], tfidf_preds))"
   ]
  },
  {
   "cell_type": "code",
   "execution_count": 5,
   "id": "1f63a048-68c2-4e08-9754-387bf297b9e8",
   "metadata": {},
   "outputs": [
    {
     "name": "stdout",
     "output_type": "stream",
     "text": [
      "\n",
      " Computing SBERT embeddings...\n"
     ]
    },
    {
     "data": {
      "application/vnd.jupyter.widget-view+json": {
       "model_id": "91c018eadba84415b2dfe710cb951545",
       "version_major": 2,
       "version_minor": 0
      },
      "text/plain": [
       "Batches:   0%|          | 0/130 [00:00<?, ?it/s]"
      ]
     },
     "metadata": {},
     "output_type": "display_data"
    },
    {
     "data": {
      "application/vnd.jupyter.widget-view+json": {
       "model_id": "4a01f93f1f95451d8f33ace300d76fcd",
       "version_major": 2,
       "version_minor": 0
      },
      "text/plain": [
       "Batches:   0%|          | 0/17 [00:00<?, ?it/s]"
      ]
     },
     "metadata": {},
     "output_type": "display_data"
    },
    {
     "name": "stdout",
     "output_type": "stream",
     "text": [
      "SBERT + Logistic Regression Accuracy: 0.6834\n",
      "              precision    recall  f1-score   support\n",
      "\n",
      "           0       0.69      0.97      0.81       349\n",
      "           1       0.61      0.08      0.15       169\n",
      "\n",
      "    accuracy                           0.68       518\n",
      "   macro avg       0.65      0.53      0.48       518\n",
      "weighted avg       0.66      0.68      0.59       518\n",
      "\n"
     ]
    }
   ],
   "source": [
    "# Sentence-BERT + Logistic Regression\n",
    "print(\"\\n Computing SBERT embeddings...\")\n",
    "sbert = SentenceTransformer(\"all-MiniLM-L6-v2\")\n",
    "X_train = sbert.encode(train_df[\"text\"].tolist(), show_progress_bar=True)\n",
    "X_test = sbert.encode(test_df[\"text\"].tolist(), show_progress_bar=True)\n",
    "\n",
    "clf = LogisticRegression(max_iter=1000, random_state=SEED)\n",
    "clf.fit(X_train, train_df[\"label\"])\n",
    "sbert_preds = clf.predict(X_test)\n",
    "sbert_acc = accuracy_score(test_df[\"label\"], sbert_preds)\n",
    "print(f\"SBERT + Logistic Regression Accuracy: {sbert_acc:.4f}\")\n",
    "print(classification_report(test_df[\"label\"], sbert_preds))"
   ]
  },
  {
   "cell_type": "code",
   "execution_count": null,
   "id": "6a59cfab-f53f-4b1d-bac9-8bc217961a85",
   "metadata": {},
   "outputs": [],
   "source": []
  }
 ],
 "metadata": {
  "kernelspec": {
   "display_name": "Python 3 (ipykernel)",
   "language": "python",
   "name": "python3"
  },
  "language_info": {
   "codemirror_mode": {
    "name": "ipython",
    "version": 3
   },
   "file_extension": ".py",
   "mimetype": "text/x-python",
   "name": "python",
   "nbconvert_exporter": "python",
   "pygments_lexer": "ipython3",
   "version": "3.12.3"
  }
 },
 "nbformat": 4,
 "nbformat_minor": 5
}
