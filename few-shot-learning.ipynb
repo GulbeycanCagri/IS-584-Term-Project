{
 "cells": [
  {
   "cell_type": "code",
   "execution_count": 1,
   "id": "e1b8bd86-052f-4f07-9287-862ffeeae274",
   "metadata": {},
   "outputs": [
    {
     "name": "stdout",
     "output_type": "stream",
     "text": [
      "Defaulting to user installation because normal site-packages is not writeable\n",
      "Requirement already satisfied: torch in /home/cagri/.local/lib/python3.12/site-packages (2.7.0)\n",
      "Requirement already satisfied: transformers in /home/cagri/.local/lib/python3.12/site-packages (4.52.3)\n",
      "Requirement already satisfied: peft in /home/cagri/.local/lib/python3.12/site-packages (0.15.2)\n",
      "Requirement already satisfied: accelerate in /home/cagri/.local/lib/python3.12/site-packages (1.7.0)\n",
      "Requirement already satisfied: bitsandbytes in /home/cagri/.local/lib/python3.12/site-packages (0.45.5)\n",
      "Requirement already satisfied: datasets in /home/cagri/.local/lib/python3.12/site-packages (3.6.0)\n",
      "Requirement already satisfied: scikit-learn in /home/cagri/.local/lib/python3.12/site-packages (1.6.1)\n",
      "Requirement already satisfied: wandb in /home/cagri/.local/lib/python3.12/site-packages (0.19.11)\n",
      "Requirement already satisfied: filelock in /home/cagri/.local/lib/python3.12/site-packages (from torch) (3.18.0)\n",
      "Requirement already satisfied: typing-extensions>=4.10.0 in /home/cagri/.local/lib/python3.12/site-packages (from torch) (4.13.2)\n",
      "Requirement already satisfied: setuptools in /home/cagri/.local/lib/python3.12/site-packages (from torch) (80.7.1)\n",
      "Requirement already satisfied: sympy>=1.13.3 in /home/cagri/.local/lib/python3.12/site-packages (from torch) (1.14.0)\n",
      "Requirement already satisfied: networkx in /home/cagri/.local/lib/python3.12/site-packages (from torch) (3.4.2)\n",
      "Requirement already satisfied: jinja2 in /home/cagri/.local/lib/python3.12/site-packages (from torch) (3.1.6)\n",
      "Requirement already satisfied: fsspec in /home/cagri/.local/lib/python3.12/site-packages (from torch) (2025.3.0)\n",
      "Requirement already satisfied: nvidia-cuda-nvrtc-cu12==12.6.77 in /home/cagri/.local/lib/python3.12/site-packages (from torch) (12.6.77)\n",
      "Requirement already satisfied: nvidia-cuda-runtime-cu12==12.6.77 in /home/cagri/.local/lib/python3.12/site-packages (from torch) (12.6.77)\n",
      "Requirement already satisfied: nvidia-cuda-cupti-cu12==12.6.80 in /home/cagri/.local/lib/python3.12/site-packages (from torch) (12.6.80)\n",
      "Requirement already satisfied: nvidia-cudnn-cu12==9.5.1.17 in /home/cagri/.local/lib/python3.12/site-packages (from torch) (9.5.1.17)\n",
      "Requirement already satisfied: nvidia-cublas-cu12==12.6.4.1 in /home/cagri/.local/lib/python3.12/site-packages (from torch) (12.6.4.1)\n",
      "Requirement already satisfied: nvidia-cufft-cu12==11.3.0.4 in /home/cagri/.local/lib/python3.12/site-packages (from torch) (11.3.0.4)\n",
      "Requirement already satisfied: nvidia-curand-cu12==10.3.7.77 in /home/cagri/.local/lib/python3.12/site-packages (from torch) (10.3.7.77)\n",
      "Requirement already satisfied: nvidia-cusolver-cu12==11.7.1.2 in /home/cagri/.local/lib/python3.12/site-packages (from torch) (11.7.1.2)\n",
      "Requirement already satisfied: nvidia-cusparse-cu12==12.5.4.2 in /home/cagri/.local/lib/python3.12/site-packages (from torch) (12.5.4.2)\n",
      "Requirement already satisfied: nvidia-cusparselt-cu12==0.6.3 in /home/cagri/.local/lib/python3.12/site-packages (from torch) (0.6.3)\n",
      "Requirement already satisfied: nvidia-nccl-cu12==2.26.2 in /home/cagri/.local/lib/python3.12/site-packages (from torch) (2.26.2)\n",
      "Requirement already satisfied: nvidia-nvtx-cu12==12.6.77 in /home/cagri/.local/lib/python3.12/site-packages (from torch) (12.6.77)\n",
      "Requirement already satisfied: nvidia-nvjitlink-cu12==12.6.85 in /home/cagri/.local/lib/python3.12/site-packages (from torch) (12.6.85)\n",
      "Requirement already satisfied: nvidia-cufile-cu12==1.11.1.6 in /home/cagri/.local/lib/python3.12/site-packages (from torch) (1.11.1.6)\n",
      "Requirement already satisfied: triton==3.3.0 in /home/cagri/.local/lib/python3.12/site-packages (from torch) (3.3.0)\n",
      "Requirement already satisfied: huggingface-hub<1.0,>=0.30.0 in /home/cagri/.local/lib/python3.12/site-packages (from transformers) (0.31.4)\n",
      "Requirement already satisfied: numpy>=1.17 in /home/cagri/.local/lib/python3.12/site-packages (from transformers) (2.2.6)\n",
      "Requirement already satisfied: packaging>=20.0 in /home/cagri/.local/lib/python3.12/site-packages (from transformers) (25.0)\n",
      "Requirement already satisfied: pyyaml>=5.1 in /home/cagri/.local/lib/python3.12/site-packages (from transformers) (6.0.2)\n",
      "Requirement already satisfied: regex!=2019.12.17 in /home/cagri/.local/lib/python3.12/site-packages (from transformers) (2024.11.6)\n",
      "Requirement already satisfied: requests in /home/cagri/.local/lib/python3.12/site-packages (from transformers) (2.32.3)\n",
      "Requirement already satisfied: tokenizers<0.22,>=0.21 in /home/cagri/.local/lib/python3.12/site-packages (from transformers) (0.21.1)\n",
      "Requirement already satisfied: safetensors>=0.4.3 in /home/cagri/.local/lib/python3.12/site-packages (from transformers) (0.5.3)\n",
      "Requirement already satisfied: tqdm>=4.27 in /home/cagri/.local/lib/python3.12/site-packages (from transformers) (4.67.1)\n",
      "Requirement already satisfied: psutil in /home/cagri/.local/lib/python3.12/site-packages (from peft) (7.0.0)\n",
      "Requirement already satisfied: pyarrow>=15.0.0 in /home/cagri/.local/lib/python3.12/site-packages (from datasets) (20.0.0)\n",
      "Requirement already satisfied: dill<0.3.9,>=0.3.0 in /home/cagri/.local/lib/python3.12/site-packages (from datasets) (0.3.8)\n",
      "Requirement already satisfied: pandas in /home/cagri/.local/lib/python3.12/site-packages (from datasets) (2.2.3)\n",
      "Requirement already satisfied: xxhash in /home/cagri/.local/lib/python3.12/site-packages (from datasets) (3.5.0)\n",
      "Requirement already satisfied: multiprocess<0.70.17 in /home/cagri/.local/lib/python3.12/site-packages (from datasets) (0.70.16)\n",
      "Requirement already satisfied: scipy>=1.6.0 in /home/cagri/.local/lib/python3.12/site-packages (from scikit-learn) (1.15.3)\n",
      "Requirement already satisfied: joblib>=1.2.0 in /home/cagri/.local/lib/python3.12/site-packages (from scikit-learn) (1.5.0)\n",
      "Requirement already satisfied: threadpoolctl>=3.1.0 in /home/cagri/.local/lib/python3.12/site-packages (from scikit-learn) (3.6.0)\n",
      "Requirement already satisfied: click!=8.0.0,>=7.1 in /usr/lib/python3/dist-packages (from wandb) (8.1.6)\n",
      "Requirement already satisfied: docker-pycreds>=0.4.0 in /home/cagri/.local/lib/python3.12/site-packages (from wandb) (0.4.0)\n",
      "Requirement already satisfied: gitpython!=3.1.29,>=1.0.0 in /home/cagri/.local/lib/python3.12/site-packages (from wandb) (3.1.44)\n",
      "Requirement already satisfied: platformdirs in /home/cagri/.local/lib/python3.12/site-packages (from wandb) (4.3.8)\n",
      "Requirement already satisfied: protobuf!=4.21.0,!=5.28.0,<7,>=3.19.0 in /usr/lib/python3/dist-packages (from wandb) (4.21.12)\n",
      "Requirement already satisfied: pydantic<3 in /home/cagri/.local/lib/python3.12/site-packages (from wandb) (2.11.4)\n",
      "Requirement already satisfied: sentry-sdk>=2.0.0 in /home/cagri/.local/lib/python3.12/site-packages (from wandb) (2.29.1)\n",
      "Requirement already satisfied: setproctitle in /usr/lib/python3/dist-packages (from wandb) (1.3.3)\n",
      "Requirement already satisfied: six>=1.4.0 in /home/cagri/.local/lib/python3.12/site-packages (from docker-pycreds>=0.4.0->wandb) (1.17.0)\n",
      "Requirement already satisfied: aiohttp!=4.0.0a0,!=4.0.0a1 in /home/cagri/.local/lib/python3.12/site-packages (from fsspec[http]<=2025.3.0,>=2023.1.0->datasets) (3.11.18)\n",
      "Requirement already satisfied: gitdb<5,>=4.0.1 in /home/cagri/.local/lib/python3.12/site-packages (from gitpython!=3.1.29,>=1.0.0->wandb) (4.0.12)\n",
      "Requirement already satisfied: annotated-types>=0.6.0 in /home/cagri/.local/lib/python3.12/site-packages (from pydantic<3->wandb) (0.7.0)\n",
      "Requirement already satisfied: pydantic-core==2.33.2 in /home/cagri/.local/lib/python3.12/site-packages (from pydantic<3->wandb) (2.33.2)\n",
      "Requirement already satisfied: typing-inspection>=0.4.0 in /home/cagri/.local/lib/python3.12/site-packages (from pydantic<3->wandb) (0.4.0)\n",
      "Requirement already satisfied: charset-normalizer<4,>=2 in /home/cagri/.local/lib/python3.12/site-packages (from requests->transformers) (3.4.2)\n",
      "Requirement already satisfied: idna<4,>=2.5 in /home/cagri/.local/lib/python3.12/site-packages (from requests->transformers) (3.10)\n",
      "Requirement already satisfied: urllib3<3,>=1.21.1 in /home/cagri/.local/lib/python3.12/site-packages (from requests->transformers) (2.4.0)\n",
      "Requirement already satisfied: certifi>=2017.4.17 in /home/cagri/.local/lib/python3.12/site-packages (from requests->transformers) (2025.4.26)\n",
      "Requirement already satisfied: mpmath<1.4,>=1.1.0 in /home/cagri/.local/lib/python3.12/site-packages (from sympy>=1.13.3->torch) (1.3.0)\n",
      "Requirement already satisfied: MarkupSafe>=2.0 in /home/cagri/.local/lib/python3.12/site-packages (from jinja2->torch) (3.0.2)\n",
      "Requirement already satisfied: python-dateutil>=2.8.2 in /home/cagri/.local/lib/python3.12/site-packages (from pandas->datasets) (2.9.0.post0)\n",
      "Requirement already satisfied: pytz>=2020.1 in /usr/lib/python3/dist-packages (from pandas->datasets) (2024.1)\n",
      "Requirement already satisfied: tzdata>=2022.7 in /home/cagri/.local/lib/python3.12/site-packages (from pandas->datasets) (2025.2)\n",
      "Requirement already satisfied: aiohappyeyeballs>=2.3.0 in /home/cagri/.local/lib/python3.12/site-packages (from aiohttp!=4.0.0a0,!=4.0.0a1->fsspec[http]<=2025.3.0,>=2023.1.0->datasets) (2.6.1)\n",
      "Requirement already satisfied: aiosignal>=1.1.2 in /home/cagri/.local/lib/python3.12/site-packages (from aiohttp!=4.0.0a0,!=4.0.0a1->fsspec[http]<=2025.3.0,>=2023.1.0->datasets) (1.3.2)\n",
      "Requirement already satisfied: attrs>=17.3.0 in /home/cagri/.local/lib/python3.12/site-packages (from aiohttp!=4.0.0a0,!=4.0.0a1->fsspec[http]<=2025.3.0,>=2023.1.0->datasets) (25.3.0)\n",
      "Requirement already satisfied: frozenlist>=1.1.1 in /home/cagri/.local/lib/python3.12/site-packages (from aiohttp!=4.0.0a0,!=4.0.0a1->fsspec[http]<=2025.3.0,>=2023.1.0->datasets) (1.6.0)\n",
      "Requirement already satisfied: multidict<7.0,>=4.5 in /home/cagri/.local/lib/python3.12/site-packages (from aiohttp!=4.0.0a0,!=4.0.0a1->fsspec[http]<=2025.3.0,>=2023.1.0->datasets) (6.4.4)\n",
      "Requirement already satisfied: propcache>=0.2.0 in /home/cagri/.local/lib/python3.12/site-packages (from aiohttp!=4.0.0a0,!=4.0.0a1->fsspec[http]<=2025.3.0,>=2023.1.0->datasets) (0.3.1)\n",
      "Requirement already satisfied: yarl<2.0,>=1.17.0 in /home/cagri/.local/lib/python3.12/site-packages (from aiohttp!=4.0.0a0,!=4.0.0a1->fsspec[http]<=2025.3.0,>=2023.1.0->datasets) (1.20.0)\n",
      "Requirement already satisfied: smmap<6,>=3.0.1 in /home/cagri/.local/lib/python3.12/site-packages (from gitdb<5,>=4.0.1->gitpython!=3.1.29,>=1.0.0->wandb) (5.0.2)\n"
     ]
    }
   ],
   "source": [
    "\"\"\"\n",
    "This notebook is depreciated. Accuracy results were below baselines.\n",
    "\"\"\"\n",
    "\n",
    "!pip install torch transformers peft accelerate bitsandbytes datasets scikit-learn wandb --break-system-packages"
   ]
  },
  {
   "cell_type": "code",
   "execution_count": 2,
   "id": "a699f7eb-19ec-4513-9699-c07dd90fa4c6",
   "metadata": {},
   "outputs": [
    {
     "name": "stdout",
     "output_type": "stream",
     "text": [
      "2.7.0+cu126\n",
      "12.6\n",
      "True\n",
      "1\n"
     ]
    }
   ],
   "source": [
    "import torch\n",
    "import random\n",
    "import numpy as np\n",
    "import wandb\n",
    "from torch.utils.data import Dataset\n",
    "import os\n",
    "import json\n",
    "import pandas as pd\n",
    "from sklearn.model_selection import train_test_split\n",
    "from transformers import AutoTokenizer,AutoModelForCausalLM,BitsAndBytesConfig,Trainer, TrainingArguments,EvalPrediction\n",
    "from peft import prepare_model_for_kbit_training, get_peft_model, LoraConfig, TaskType\n",
    "from sklearn.metrics import accuracy_score, precision_recall_fscore_support, roc_auc_score\n",
    "from transformers.modeling_outputs import SequenceClassifierOutput\n",
    "from torch.utils.data import DataLoader\n",
    "import re\n",
    "print(torch.__version__)\n",
    "print(torch.version.cuda)\n",
    "print(torch.cuda.is_available())\n",
    "print(torch.cuda.device_count())"
   ]
  },
  {
   "cell_type": "code",
   "execution_count": 3,
   "id": "ed73d6b9-6aad-4feb-adff-b02db08ed820",
   "metadata": {},
   "outputs": [],
   "source": [
    "import gc\n",
    "gc.collect()\n",
    "torch.cuda.empty_cache()"
   ]
  },
  {
   "cell_type": "code",
   "execution_count": 4,
   "id": "86d91128-dbf0-4e73-ac65-cfd8e502dd21",
   "metadata": {},
   "outputs": [
    {
     "name": "stderr",
     "output_type": "stream",
     "text": [
      "\u001b[34m\u001b[1mwandb\u001b[0m: Currently logged in as: \u001b[33me274028\u001b[0m (\u001b[33me274028-metu-middle-east-technical-university\u001b[0m) to \u001b[32mhttps://api.wandb.ai\u001b[0m. Use \u001b[1m`wandb login --relogin`\u001b[0m to force relogin\n"
     ]
    },
    {
     "data": {
      "text/plain": [
       "True"
      ]
     },
     "execution_count": 4,
     "metadata": {},
     "output_type": "execute_result"
    }
   ],
   "source": [
    "wandb.login()"
   ]
  },
  {
   "cell_type": "code",
   "execution_count": 5,
   "id": "7d28e9c2-3fdf-471c-89ff-7d3f1614208c",
   "metadata": {},
   "outputs": [],
   "source": [
    "def set_seed(seed=42):\n",
    "    random.seed(seed)\n",
    "    np.random.seed(seed)\n",
    "    torch.manual_seed(seed)\n",
    "    torch.cuda.manual_seed_all(seed)\n",
    "    torch.backends.cudnn.deterministic = True\n",
    "    torch.backends.cudnn.benchmark = False\n",
    "\n",
    "set_seed(42)"
   ]
  },
  {
   "cell_type": "code",
   "execution_count": 6,
   "id": "c266f93e-97e2-4022-ad60-5c8806a501e8",
   "metadata": {},
   "outputs": [
    {
     "name": "stdout",
     "output_type": "stream",
     "text": [
      "         paper_id                                               text  \\\n",
      "0   ICLR_2020_686  This paper proposes a novel architecture for q...   \n",
      "1  ICLR_2020_1004  This paper provides a novel approach for addre...   \n",
      "2  ICLR_2020_1470  This paper proposes a new training method for ...   \n",
      "3  ICLR_2020_1471  The paper proposes a neural network architectu...   \n",
      "4   ICLR_2020_228  This paper provides a surprising result: that ...   \n",
      "\n",
      "   avg_rating  label  \n",
      "0    8.000000      1  \n",
      "1    4.333333      0  \n",
      "2    3.000000      0  \n",
      "3    6.000000      1  \n",
      "4    6.666667      1  \n"
     ]
    }
   ],
   "source": [
    "def clean_text_keep_english_and_punctuation(text):\n",
    "    return re.sub(r\"[^a-zA-Z0-9\\s.,:;!?()\\[\\]\\\"'-]\", \"\", text)\n",
    "\n",
    "def parse_reviews_to_dataframe(dataset_dir, tokenizer=None, max_tokens=1900):\n",
    "    records = []\n",
    "\n",
    "    for year_dir in os.listdir(dataset_dir):\n",
    "        year_path = os.path.join(dataset_dir, year_dir)\n",
    "        if not os.path.isdir(year_path):\n",
    "            continue\n",
    "\n",
    "        review_dir = os.path.join(year_path, f\"{year_dir}_review\")\n",
    "        if not os.path.exists(review_dir):\n",
    "            continue\n",
    "\n",
    "        for fname in os.listdir(review_dir):\n",
    "            if not (fname.endswith(\".json\") and \"ICLR\" in fname):\n",
    "                continue\n",
    "\n",
    "            file_path = os.path.join(review_dir, fname)\n",
    "            with open(file_path, \"r\") as f:\n",
    "                try:\n",
    "                    data = json.load(f)\n",
    "                except Exception as e:\n",
    "                    print(f\"Failed to parse {file_path}: {e}\")\n",
    "                    continue\n",
    "\n",
    "            paper_id = data.get(\"id\", fname.replace(\".json\", \"\"))\n",
    "            meta_review = data.get(\"metaReview\", \"\")\n",
    "            reviews = data.get(\"reviews\", [])\n",
    "\n",
    "            review_texts = []\n",
    "            rating_scores = []\n",
    "\n",
    "            for review in reviews:\n",
    "                review_text = review.get(\"review\", \"\")\n",
    "                rating_raw = review.get(\"rating\", \"\")\n",
    "                try:\n",
    "                    rating_score = int(rating_raw.split(\":\")[0].strip())\n",
    "                    rating_scores.append(rating_score)\n",
    "                except Exception as e:\n",
    "                    print(f\"Invalid rating. Error is e: {e}\")\n",
    "\n",
    "                review_texts.append(review_text)\n",
    "\n",
    "            #full_text = \" \".join(review_texts + [meta_review]).strip()\n",
    "            #full_text = clean_text_keep_english_and_punctuation(full_text)\n",
    "            #if tokenizer is not None:\n",
    "            #    tokens = tokenizer(full_text, truncation=True, max_length=max_tokens, return_tensors=\"pt\")\n",
    "            #    full_text = tokenizer.decode(tokens[\"input_ids\"][0], skip_special_tokens=True)\n",
    "\n",
    "            if meta_review == '':\n",
    "                continue\n",
    "            if len(rating_scores) == 0:\n",
    "                continue  # boş puanlı kayıtları atla\n",
    "\n",
    "            avg_rating = sum(rating_scores) / len(rating_scores)\n",
    "            label = 1 if avg_rating >= 6 else 0\n",
    "\n",
    "            records.append({\n",
    "                \"paper_id\": paper_id,\n",
    "                \"text\": meta_review,\n",
    "                \"avg_rating\": avg_rating,\n",
    "                \"label\": label\n",
    "            })\n",
    "\n",
    "    return pd.DataFrame(records)\n",
    "\n",
    "# Example usage:\n",
    "df = parse_reviews_to_dataframe(\"dataset\")\n",
    "print(df.head())"
   ]
  },
  {
   "cell_type": "code",
   "execution_count": 7,
   "id": "a86da74d-4a2f-4f56-989a-4a37f8d85bde",
   "metadata": {},
   "outputs": [],
   "source": [
    "train_df, temp_df = train_test_split(df, test_size=0.2, stratify=df[\"label\"], random_state=42)\n",
    "val_df, test_df = train_test_split(temp_df, test_size=0.5, stratify=temp_df[\"label\"], random_state=42)"
   ]
  },
  {
   "cell_type": "code",
   "execution_count": 8,
   "id": "b7828da1-3994-4181-b290-c74c9b399800",
   "metadata": {},
   "outputs": [],
   "source": [
    "model_name = \"TinyLlama/TinyLlama-1.1B-Chat-v1.0\"\n",
    "tokenizer = AutoTokenizer.from_pretrained(model_name, use_fast=True, padding_side=\"right\")\n",
    "tokenizer.pad_token = tokenizer.eos_token "
   ]
  },
  {
   "cell_type": "code",
   "execution_count": 9,
   "id": "bdea14de-5e35-424e-b827-a8fa1e3ef558",
   "metadata": {},
   "outputs": [],
   "source": [
    "\n",
    "def build_few_shot_prompt(support_examples, query_text):\n",
    "    prompt_parts = []\n",
    "\n",
    "    for support_text, support_label in support_examples:\n",
    "        label_str = \"accepted\" if support_label == 1 else \"rejected\"\n",
    "        prompt_parts.append(\n",
    "            f\"Meta Review:\\n{support_text.strip()}\\nPrediction: {label_str}\"\n",
    "        )\n",
    "\n",
    "    prompt_parts.append(\n",
    "        \"Now read the following meta review and guess whether the paper was accepted or rejected for the conference.\"\n",
    "    )\n",
    "    prompt_parts.append(\n",
    "        f\"\\nMeta Review:\\n{query_text.strip()}\\nYour Prediction in One Word Accepted or Rejected:\"\n",
    "    )\n",
    "\n",
    "    return \"\\n\\n\".join(prompt_parts)\n",
    "\n",
    "class FewShotReviewDataset(Dataset):\n",
    "    def __init__(self, dataframe, tokenizer, support_examples):\n",
    "        self.data = dataframe\n",
    "        self.tokenizer = tokenizer\n",
    "        self.support_examples = support_examples\n",
    "\n",
    "    def __len__(self):\n",
    "        return len(self.data)\n",
    "\n",
    "    def __getitem__(self, idx):\n",
    "        query = self.data.iloc[idx][\"text\"]\n",
    "\n",
    "        # Prompt construction moved to external helper\n",
    "        prompt = build_few_shot_prompt(self.support_examples, query)\n",
    "\n",
    "        # Tokenize to get token count\n",
    "        tokens = self.tokenizer(prompt, return_tensors=\"pt\")[\"input_ids\"][0]\n",
    "\n",
    "        # Re-tokenize for padding and attention mask\n",
    "        encoding = self.tokenizer(\n",
    "            prompt,\n",
    "            return_tensors=\"pt\",\n",
    "            truncation=True\n",
    "        )\n",
    "\n",
    "        return {\n",
    "            \"input_ids\": encoding[\"input_ids\"].squeeze(0),\n",
    "            \"attention_mask\": encoding[\"attention_mask\"].squeeze(0),\n",
    "            \"label\": self.data.iloc[idx][\"label\"],\n",
    "            \"prompt\": prompt  # optional, useful for logging/debugging\n",
    "        }"
   ]
  },
  {
   "cell_type": "code",
   "execution_count": 11,
   "id": "96f8125b-6897-4d27-8a87-33a03f776007",
   "metadata": {},
   "outputs": [],
   "source": [
    "def compute_metrics(eval_pred):\n",
    "    logits, labels = eval_pred\n",
    "    predictions = logits.argmax(axis=-1)\n",
    "\n",
    "    precision, recall, f1, _ = precision_recall_fscore_support(\n",
    "        labels, predictions, average=\"binary\", zero_division=0\n",
    "    )\n",
    "    acc = accuracy_score(labels, predictions)\n",
    "\n",
    "    metrics = {\n",
    "        \"accuracy\": acc,\n",
    "        \"precision\": precision,\n",
    "        \"recall\": recall,\n",
    "        \"f1\": f1,\n",
    "    }\n",
    "\n",
    "    if logits.shape[1] == 2:\n",
    "        try:\n",
    "            probs = torch.nn.functional.softmax(torch.tensor(logits), dim=-1)[:, 1].numpy()\n",
    "            auc = roc_auc_score(labels, probs)\n",
    "            metrics[\"auc\"] = auc\n",
    "        except Exception as e:\n",
    "            print(f\"Warning: AUC calculation failed: {e}\")\n",
    "\n",
    "    return metrics\n",
    "\n",
    "def evaluate(dataset, model, tokenizer, name=\"Validation\"):\n",
    "    model.eval()\n",
    "    loader = DataLoader(dataset, batch_size=1)\n",
    "\n",
    "    preds = []\n",
    "    labels = []\n",
    "\n",
    "    for batch in loader:\n",
    "        query_label = batch[\"label\"].item()\n",
    "        input_ids = batch[\"input_ids\"].to(model.device)\n",
    "        attention_mask = batch[\"attention_mask\"].to(model.device)\n",
    "        prompt = batch[\"prompt\"][0]\n",
    "\n",
    "        with torch.no_grad():\n",
    "            output = model.generate(\n",
    "                input_ids=input_ids,\n",
    "                attention_mask=attention_mask,\n",
    "                max_new_tokens=5\n",
    "            )\n",
    "\n",
    "        decoded = tokenizer.decode(output[0], skip_special_tokens=True).lower()\n",
    "\n",
    "        prediction_part = decoded.split(\"your prediction in one word accepted or rejected:\", 3)[-1].strip()\n",
    "        \n",
    "        if \"rejected\" in prediction_part:\n",
    "            pred = 0\n",
    "        else:\n",
    "            pred = 1\n",
    "        \n",
    "        #print(decoded)\n",
    "        #rint(pred)\n",
    "        preds.append(pred)\n",
    "        labels.append(query_label)\n",
    "        #print(query_label)\n",
    "        \n",
    "    acc = accuracy_score(labels, preds)\n",
    "    precision, recall, f1, _ = precision_recall_fscore_support(labels, preds, average=\"binary\", zero_division=0)\n",
    "\n",
    "    print(f\"=== {name} ===\")\n",
    "    print(f\"accuracy: {acc:.4f}\")\n",
    "    print(f\"precision: {precision:.4f}\")\n",
    "    print(f\"recall: {recall:.4f}\")\n",
    "    print(f\"f1: {f1:.4f}\")\n",
    "\n",
    "\n",
    "    \n",
    "def get_balanced_support_examples(df, n_shots):\n",
    "    half = n_shots // 2\n",
    "    accepted = df[df[\"label\"] == 1].sample(n=half, random_state=42)\n",
    "    rejected = df[df[\"label\"] == 0].sample(n=half, random_state=42)\n",
    "    return list(accepted[[\"text\", \"label\"]].itertuples(index=False, name=None)) + \\\n",
    "           list(rejected[[\"text\", \"label\"]].itertuples(index=False, name=None))\n",
    "\n",
    "def sweep_prompt_eval():\n",
    "    wandb.init()\n",
    "    config = wandb.config\n",
    "\n",
    "    # === Select support examples dynamically ===\n",
    "    n_shots = config.n_shots\n",
    "    support_examples = get_balanced_support_examples(train_df, config.n_shots)\n",
    "\n",
    "    val_dataset = FewShotReviewDataset(val_df, tokenizer, support_examples)\n",
    "    test_dataset = FewShotReviewDataset(test_df, tokenizer, support_examples)\n",
    "    model_name = \"TinyLlama/TinyLlama-1.1B-Chat-v1.0\"\n",
    "    bnb_config = BitsAndBytesConfig(\n",
    "        load_in_4bit=True,\n",
    "        bnb_4bit_use_double_quant=True,\n",
    "        bnb_4bit_quant_type=\"nf4\",\n",
    "        bnb_4bit_compute_dtype=torch.float16\n",
    "    )\n",
    "    \n",
    "    base_model = AutoModelForCausalLM.from_pretrained(\n",
    "        model_name,\n",
    "        quantization_config=bnb_config,\n",
    "        device_map=\"auto\",\n",
    "        torch_dtype=torch.float16\n",
    "    )\n",
    "    \n",
    "    base_model = prepare_model_for_kbit_training(base_model)\n",
    "    \n",
    "    peft_config = LoraConfig(\n",
    "        r=config.r,\n",
    "        lora_alpha=config.lora_alpha,\n",
    "        lora_dropout=config.lora_dropout,\n",
    "        target_modules=[\"q_proj\", \"v_proj\"],\n",
    "        task_type=\"CAUSAL_LM\"\n",
    "    )\n",
    "    \n",
    "    model = get_peft_model(base_model, peft_config)\n",
    "    model.eval()\n",
    "    evaluate(val_dataset, model, tokenizer, name=\"Validation\")\n",
    "    evaluate(test_dataset, model, tokenizer, name=\"Test\")\n",
    "\n",
    "    wandb.finish()"
   ]
  },
  {
   "cell_type": "code",
   "execution_count": 12,
   "id": "bd2ed31e-abaa-4511-8185-0e19ccdfef0d",
   "metadata": {},
   "outputs": [],
   "source": [
    "sweep_config = {\n",
    "    \"method\": \"grid\",\n",
    "    \"metric\": {\"name\": \"test_accuracy\", \"goal\": \"maximize\"},\n",
    "    \"parameters\": {\n",
    "        \"n_shots\": {\"values\": [0,2,4]},\n",
    "        \"r\": {\"values\": [4, 8]},\n",
    "        \"lora_alpha\": {\"values\": [16, 32]},\n",
    "        \"lora_dropout\": {\"values\": [0.05, 0.1]}\n",
    "    }\n",
    "}\n"
   ]
  },
  {
   "cell_type": "code",
   "execution_count": 13,
   "id": "d7b13bc0-19cc-4a71-a3e6-74ec0057b72d",
   "metadata": {},
   "outputs": [
    {
     "name": "stdout",
     "output_type": "stream",
     "text": [
      "Create sweep with ID: cy1gb8xv\n",
      "Sweep URL: https://wandb.ai/e274028-metu-middle-east-technical-university/tinyllama-fewshot/sweeps/cy1gb8xv\n"
     ]
    },
    {
     "name": "stderr",
     "output_type": "stream",
     "text": [
      "\u001b[34m\u001b[1mwandb\u001b[0m: Agent Starting Run: r0kokxn2 with config:\n",
      "\u001b[34m\u001b[1mwandb\u001b[0m: \tlora_alpha: 16\n",
      "\u001b[34m\u001b[1mwandb\u001b[0m: \tlora_dropout: 0.05\n",
      "\u001b[34m\u001b[1mwandb\u001b[0m: \tn_shots: 0\n",
      "\u001b[34m\u001b[1mwandb\u001b[0m: \tr: 4\n"
     ]
    },
    {
     "data": {
      "text/html": [
       "Tracking run with wandb version 0.19.11"
      ],
      "text/plain": [
       "<IPython.core.display.HTML object>"
      ]
     },
     "metadata": {},
     "output_type": "display_data"
    },
    {
     "data": {
      "text/html": [
       "Run data is saved locally in <code>/home/cagri/Desktop/IS-584-Term-Project/wandb/run-20250623_072238-r0kokxn2</code>"
      ],
      "text/plain": [
       "<IPython.core.display.HTML object>"
      ]
     },
     "metadata": {},
     "output_type": "display_data"
    },
    {
     "data": {
      "text/html": [
       "Syncing run <strong><a href='https://wandb.ai/e274028-metu-middle-east-technical-university/tinyllama-fewshot/runs/r0kokxn2' target=\"_blank\">misunderstood-sweep-1</a></strong> to <a href='https://wandb.ai/e274028-metu-middle-east-technical-university/tinyllama-fewshot' target=\"_blank\">Weights & Biases</a> (<a href='https://wandb.me/developer-guide' target=\"_blank\">docs</a>)<br>Sweep page: <a href='https://wandb.ai/e274028-metu-middle-east-technical-university/tinyllama-fewshot/sweeps/cy1gb8xv' target=\"_blank\">https://wandb.ai/e274028-metu-middle-east-technical-university/tinyllama-fewshot/sweeps/cy1gb8xv</a>"
      ],
      "text/plain": [
       "<IPython.core.display.HTML object>"
      ]
     },
     "metadata": {},
     "output_type": "display_data"
    },
    {
     "data": {
      "text/html": [
       " View project at <a href='https://wandb.ai/e274028-metu-middle-east-technical-university/tinyllama-fewshot' target=\"_blank\">https://wandb.ai/e274028-metu-middle-east-technical-university/tinyllama-fewshot</a>"
      ],
      "text/plain": [
       "<IPython.core.display.HTML object>"
      ]
     },
     "metadata": {},
     "output_type": "display_data"
    },
    {
     "data": {
      "text/html": [
       " View sweep at <a href='https://wandb.ai/e274028-metu-middle-east-technical-university/tinyllama-fewshot/sweeps/cy1gb8xv' target=\"_blank\">https://wandb.ai/e274028-metu-middle-east-technical-university/tinyllama-fewshot/sweeps/cy1gb8xv</a>"
      ],
      "text/plain": [
       "<IPython.core.display.HTML object>"
      ]
     },
     "metadata": {},
     "output_type": "display_data"
    },
    {
     "data": {
      "text/html": [
       " View run at <a href='https://wandb.ai/e274028-metu-middle-east-technical-university/tinyllama-fewshot/runs/r0kokxn2' target=\"_blank\">https://wandb.ai/e274028-metu-middle-east-technical-university/tinyllama-fewshot/runs/r0kokxn2</a>"
      ],
      "text/plain": [
       "<IPython.core.display.HTML object>"
      ]
     },
     "metadata": {},
     "output_type": "display_data"
    },
    {
     "name": "stdout",
     "output_type": "stream",
     "text": [
      "=== Validation ===\n",
      "accuracy: 0.6578\n",
      "precision: 0.4813\n",
      "recall: 0.8897\n",
      "f1: 0.6247\n",
      "=== Test ===\n",
      "accuracy: 0.6564\n",
      "precision: 0.4818\n",
      "recall: 0.9041\n",
      "f1: 0.6286\n"
     ]
    },
    {
     "data": {
      "text/html": [],
      "text/plain": [
       "<IPython.core.display.HTML object>"
      ]
     },
     "metadata": {},
     "output_type": "display_data"
    },
    {
     "data": {
      "text/html": [
       " View run <strong style=\"color:#cdcd00\">misunderstood-sweep-1</strong> at: <a href='https://wandb.ai/e274028-metu-middle-east-technical-university/tinyllama-fewshot/runs/r0kokxn2' target=\"_blank\">https://wandb.ai/e274028-metu-middle-east-technical-university/tinyllama-fewshot/runs/r0kokxn2</a><br> View project at: <a href='https://wandb.ai/e274028-metu-middle-east-technical-university/tinyllama-fewshot' target=\"_blank\">https://wandb.ai/e274028-metu-middle-east-technical-university/tinyllama-fewshot</a><br>Synced 5 W&B file(s), 0 media file(s), 0 artifact file(s) and 0 other file(s)"
      ],
      "text/plain": [
       "<IPython.core.display.HTML object>"
      ]
     },
     "metadata": {},
     "output_type": "display_data"
    },
    {
     "data": {
      "text/html": [
       "Find logs at: <code>./wandb/run-20250623_072238-r0kokxn2/logs</code>"
      ],
      "text/plain": [
       "<IPython.core.display.HTML object>"
      ]
     },
     "metadata": {},
     "output_type": "display_data"
    },
    {
     "name": "stderr",
     "output_type": "stream",
     "text": [
      "\u001b[34m\u001b[1mwandb\u001b[0m: Agent Starting Run: uauq7n0v with config:\n",
      "\u001b[34m\u001b[1mwandb\u001b[0m: \tlora_alpha: 16\n",
      "\u001b[34m\u001b[1mwandb\u001b[0m: \tlora_dropout: 0.05\n",
      "\u001b[34m\u001b[1mwandb\u001b[0m: \tn_shots: 0\n",
      "\u001b[34m\u001b[1mwandb\u001b[0m: \tr: 8\n"
     ]
    },
    {
     "data": {
      "text/html": [
       "Tracking run with wandb version 0.19.11"
      ],
      "text/plain": [
       "<IPython.core.display.HTML object>"
      ]
     },
     "metadata": {},
     "output_type": "display_data"
    },
    {
     "data": {
      "text/html": [
       "Run data is saved locally in <code>/home/cagri/Desktop/IS-584-Term-Project/wandb/run-20250623_072823-uauq7n0v</code>"
      ],
      "text/plain": [
       "<IPython.core.display.HTML object>"
      ]
     },
     "metadata": {},
     "output_type": "display_data"
    },
    {
     "data": {
      "text/html": [
       "Syncing run <strong><a href='https://wandb.ai/e274028-metu-middle-east-technical-university/tinyllama-fewshot/runs/uauq7n0v' target=\"_blank\">apricot-sweep-2</a></strong> to <a href='https://wandb.ai/e274028-metu-middle-east-technical-university/tinyllama-fewshot' target=\"_blank\">Weights & Biases</a> (<a href='https://wandb.me/developer-guide' target=\"_blank\">docs</a>)<br>Sweep page: <a href='https://wandb.ai/e274028-metu-middle-east-technical-university/tinyllama-fewshot/sweeps/cy1gb8xv' target=\"_blank\">https://wandb.ai/e274028-metu-middle-east-technical-university/tinyllama-fewshot/sweeps/cy1gb8xv</a>"
      ],
      "text/plain": [
       "<IPython.core.display.HTML object>"
      ]
     },
     "metadata": {},
     "output_type": "display_data"
    },
    {
     "data": {
      "text/html": [
       " View project at <a href='https://wandb.ai/e274028-metu-middle-east-technical-university/tinyllama-fewshot' target=\"_blank\">https://wandb.ai/e274028-metu-middle-east-technical-university/tinyllama-fewshot</a>"
      ],
      "text/plain": [
       "<IPython.core.display.HTML object>"
      ]
     },
     "metadata": {},
     "output_type": "display_data"
    },
    {
     "data": {
      "text/html": [
       " View sweep at <a href='https://wandb.ai/e274028-metu-middle-east-technical-university/tinyllama-fewshot/sweeps/cy1gb8xv' target=\"_blank\">https://wandb.ai/e274028-metu-middle-east-technical-university/tinyllama-fewshot/sweeps/cy1gb8xv</a>"
      ],
      "text/plain": [
       "<IPython.core.display.HTML object>"
      ]
     },
     "metadata": {},
     "output_type": "display_data"
    },
    {
     "data": {
      "text/html": [
       " View run at <a href='https://wandb.ai/e274028-metu-middle-east-technical-university/tinyllama-fewshot/runs/uauq7n0v' target=\"_blank\">https://wandb.ai/e274028-metu-middle-east-technical-university/tinyllama-fewshot/runs/uauq7n0v</a>"
      ],
      "text/plain": [
       "<IPython.core.display.HTML object>"
      ]
     },
     "metadata": {},
     "output_type": "display_data"
    },
    {
     "name": "stdout",
     "output_type": "stream",
     "text": [
      "=== Validation ===\n",
      "accuracy: 0.6578\n",
      "precision: 0.4813\n",
      "recall: 0.8897\n",
      "f1: 0.6247\n",
      "=== Test ===\n",
      "accuracy: 0.6564\n",
      "precision: 0.4818\n",
      "recall: 0.9041\n",
      "f1: 0.6286\n"
     ]
    },
    {
     "data": {
      "text/html": [],
      "text/plain": [
       "<IPython.core.display.HTML object>"
      ]
     },
     "metadata": {},
     "output_type": "display_data"
    },
    {
     "data": {
      "text/html": [
       " View run <strong style=\"color:#cdcd00\">apricot-sweep-2</strong> at: <a href='https://wandb.ai/e274028-metu-middle-east-technical-university/tinyllama-fewshot/runs/uauq7n0v' target=\"_blank\">https://wandb.ai/e274028-metu-middle-east-technical-university/tinyllama-fewshot/runs/uauq7n0v</a><br> View project at: <a href='https://wandb.ai/e274028-metu-middle-east-technical-university/tinyllama-fewshot' target=\"_blank\">https://wandb.ai/e274028-metu-middle-east-technical-university/tinyllama-fewshot</a><br>Synced 5 W&B file(s), 0 media file(s), 0 artifact file(s) and 0 other file(s)"
      ],
      "text/plain": [
       "<IPython.core.display.HTML object>"
      ]
     },
     "metadata": {},
     "output_type": "display_data"
    },
    {
     "data": {
      "text/html": [
       "Find logs at: <code>./wandb/run-20250623_072823-uauq7n0v/logs</code>"
      ],
      "text/plain": [
       "<IPython.core.display.HTML object>"
      ]
     },
     "metadata": {},
     "output_type": "display_data"
    },
    {
     "name": "stderr",
     "output_type": "stream",
     "text": [
      "\u001b[34m\u001b[1mwandb\u001b[0m: Sweep Agent: Waiting for job.\n",
      "\u001b[34m\u001b[1mwandb\u001b[0m: Job received.\n",
      "\u001b[34m\u001b[1mwandb\u001b[0m: Agent Starting Run: gsf253rc with config:\n",
      "\u001b[34m\u001b[1mwandb\u001b[0m: \tlora_alpha: 16\n",
      "\u001b[34m\u001b[1mwandb\u001b[0m: \tlora_dropout: 0.05\n",
      "\u001b[34m\u001b[1mwandb\u001b[0m: \tn_shots: 2\n",
      "\u001b[34m\u001b[1mwandb\u001b[0m: \tr: 4\n"
     ]
    },
    {
     "data": {
      "text/html": [
       "Tracking run with wandb version 0.19.11"
      ],
      "text/plain": [
       "<IPython.core.display.HTML object>"
      ]
     },
     "metadata": {},
     "output_type": "display_data"
    },
    {
     "data": {
      "text/html": [
       "Run data is saved locally in <code>/home/cagri/Desktop/IS-584-Term-Project/wandb/run-20250623_073330-gsf253rc</code>"
      ],
      "text/plain": [
       "<IPython.core.display.HTML object>"
      ]
     },
     "metadata": {},
     "output_type": "display_data"
    },
    {
     "data": {
      "text/html": [
       "Syncing run <strong><a href='https://wandb.ai/e274028-metu-middle-east-technical-university/tinyllama-fewshot/runs/gsf253rc' target=\"_blank\">still-sweep-3</a></strong> to <a href='https://wandb.ai/e274028-metu-middle-east-technical-university/tinyllama-fewshot' target=\"_blank\">Weights & Biases</a> (<a href='https://wandb.me/developer-guide' target=\"_blank\">docs</a>)<br>Sweep page: <a href='https://wandb.ai/e274028-metu-middle-east-technical-university/tinyllama-fewshot/sweeps/cy1gb8xv' target=\"_blank\">https://wandb.ai/e274028-metu-middle-east-technical-university/tinyllama-fewshot/sweeps/cy1gb8xv</a>"
      ],
      "text/plain": [
       "<IPython.core.display.HTML object>"
      ]
     },
     "metadata": {},
     "output_type": "display_data"
    },
    {
     "data": {
      "text/html": [
       " View project at <a href='https://wandb.ai/e274028-metu-middle-east-technical-university/tinyllama-fewshot' target=\"_blank\">https://wandb.ai/e274028-metu-middle-east-technical-university/tinyllama-fewshot</a>"
      ],
      "text/plain": [
       "<IPython.core.display.HTML object>"
      ]
     },
     "metadata": {},
     "output_type": "display_data"
    },
    {
     "data": {
      "text/html": [
       " View sweep at <a href='https://wandb.ai/e274028-metu-middle-east-technical-university/tinyllama-fewshot/sweeps/cy1gb8xv' target=\"_blank\">https://wandb.ai/e274028-metu-middle-east-technical-university/tinyllama-fewshot/sweeps/cy1gb8xv</a>"
      ],
      "text/plain": [
       "<IPython.core.display.HTML object>"
      ]
     },
     "metadata": {},
     "output_type": "display_data"
    },
    {
     "data": {
      "text/html": [
       " View run at <a href='https://wandb.ai/e274028-metu-middle-east-technical-university/tinyllama-fewshot/runs/gsf253rc' target=\"_blank\">https://wandb.ai/e274028-metu-middle-east-technical-university/tinyllama-fewshot/runs/gsf253rc</a>"
      ],
      "text/plain": [
       "<IPython.core.display.HTML object>"
      ]
     },
     "metadata": {},
     "output_type": "display_data"
    },
    {
     "name": "stdout",
     "output_type": "stream",
     "text": [
      "=== Validation ===\n",
      "accuracy: 0.4879\n",
      "precision: 0.3795\n",
      "recall: 0.9448\n",
      "f1: 0.5415\n",
      "=== Test ===\n",
      "accuracy: 0.5286\n",
      "precision: 0.4023\n",
      "recall: 0.9589\n",
      "f1: 0.5668\n"
     ]
    },
    {
     "data": {
      "text/html": [],
      "text/plain": [
       "<IPython.core.display.HTML object>"
      ]
     },
     "metadata": {},
     "output_type": "display_data"
    },
    {
     "data": {
      "text/html": [
       " View run <strong style=\"color:#cdcd00\">still-sweep-3</strong> at: <a href='https://wandb.ai/e274028-metu-middle-east-technical-university/tinyllama-fewshot/runs/gsf253rc' target=\"_blank\">https://wandb.ai/e274028-metu-middle-east-technical-university/tinyllama-fewshot/runs/gsf253rc</a><br> View project at: <a href='https://wandb.ai/e274028-metu-middle-east-technical-university/tinyllama-fewshot' target=\"_blank\">https://wandb.ai/e274028-metu-middle-east-technical-university/tinyllama-fewshot</a><br>Synced 5 W&B file(s), 0 media file(s), 0 artifact file(s) and 0 other file(s)"
      ],
      "text/plain": [
       "<IPython.core.display.HTML object>"
      ]
     },
     "metadata": {},
     "output_type": "display_data"
    },
    {
     "data": {
      "text/html": [
       "Find logs at: <code>./wandb/run-20250623_073330-gsf253rc/logs</code>"
      ],
      "text/plain": [
       "<IPython.core.display.HTML object>"
      ]
     },
     "metadata": {},
     "output_type": "display_data"
    },
    {
     "name": "stderr",
     "output_type": "stream",
     "text": [
      "\u001b[34m\u001b[1mwandb\u001b[0m: Sweep Agent: Waiting for job.\n",
      "\u001b[34m\u001b[1mwandb\u001b[0m: Job received.\n",
      "\u001b[34m\u001b[1mwandb\u001b[0m: Agent Starting Run: 0q82bhjn with config:\n",
      "\u001b[34m\u001b[1mwandb\u001b[0m: \tlora_alpha: 16\n",
      "\u001b[34m\u001b[1mwandb\u001b[0m: \tlora_dropout: 0.05\n",
      "\u001b[34m\u001b[1mwandb\u001b[0m: \tn_shots: 2\n",
      "\u001b[34m\u001b[1mwandb\u001b[0m: \tr: 8\n"
     ]
    },
    {
     "data": {
      "text/html": [
       "Tracking run with wandb version 0.19.11"
      ],
      "text/plain": [
       "<IPython.core.display.HTML object>"
      ]
     },
     "metadata": {},
     "output_type": "display_data"
    },
    {
     "data": {
      "text/html": [
       "Run data is saved locally in <code>/home/cagri/Desktop/IS-584-Term-Project/wandb/run-20250623_074326-0q82bhjn</code>"
      ],
      "text/plain": [
       "<IPython.core.display.HTML object>"
      ]
     },
     "metadata": {},
     "output_type": "display_data"
    },
    {
     "data": {
      "text/html": [
       "Syncing run <strong><a href='https://wandb.ai/e274028-metu-middle-east-technical-university/tinyllama-fewshot/runs/0q82bhjn' target=\"_blank\">cosmic-sweep-4</a></strong> to <a href='https://wandb.ai/e274028-metu-middle-east-technical-university/tinyllama-fewshot' target=\"_blank\">Weights & Biases</a> (<a href='https://wandb.me/developer-guide' target=\"_blank\">docs</a>)<br>Sweep page: <a href='https://wandb.ai/e274028-metu-middle-east-technical-university/tinyllama-fewshot/sweeps/cy1gb8xv' target=\"_blank\">https://wandb.ai/e274028-metu-middle-east-technical-university/tinyllama-fewshot/sweeps/cy1gb8xv</a>"
      ],
      "text/plain": [
       "<IPython.core.display.HTML object>"
      ]
     },
     "metadata": {},
     "output_type": "display_data"
    },
    {
     "data": {
      "text/html": [
       " View project at <a href='https://wandb.ai/e274028-metu-middle-east-technical-university/tinyllama-fewshot' target=\"_blank\">https://wandb.ai/e274028-metu-middle-east-technical-university/tinyllama-fewshot</a>"
      ],
      "text/plain": [
       "<IPython.core.display.HTML object>"
      ]
     },
     "metadata": {},
     "output_type": "display_data"
    },
    {
     "data": {
      "text/html": [
       " View sweep at <a href='https://wandb.ai/e274028-metu-middle-east-technical-university/tinyllama-fewshot/sweeps/cy1gb8xv' target=\"_blank\">https://wandb.ai/e274028-metu-middle-east-technical-university/tinyllama-fewshot/sweeps/cy1gb8xv</a>"
      ],
      "text/plain": [
       "<IPython.core.display.HTML object>"
      ]
     },
     "metadata": {},
     "output_type": "display_data"
    },
    {
     "data": {
      "text/html": [
       " View run at <a href='https://wandb.ai/e274028-metu-middle-east-technical-university/tinyllama-fewshot/runs/0q82bhjn' target=\"_blank\">https://wandb.ai/e274028-metu-middle-east-technical-university/tinyllama-fewshot/runs/0q82bhjn</a>"
      ],
      "text/plain": [
       "<IPython.core.display.HTML object>"
      ]
     },
     "metadata": {},
     "output_type": "display_data"
    },
    {
     "name": "stdout",
     "output_type": "stream",
     "text": [
      "=== Validation ===\n",
      "accuracy: 0.4879\n",
      "precision: 0.3795\n",
      "recall: 0.9448\n",
      "f1: 0.5415\n",
      "=== Test ===\n",
      "accuracy: 0.5286\n",
      "precision: 0.4023\n",
      "recall: 0.9589\n",
      "f1: 0.5668\n"
     ]
    },
    {
     "data": {
      "text/html": [],
      "text/plain": [
       "<IPython.core.display.HTML object>"
      ]
     },
     "metadata": {},
     "output_type": "display_data"
    },
    {
     "data": {
      "text/html": [
       " View run <strong style=\"color:#cdcd00\">cosmic-sweep-4</strong> at: <a href='https://wandb.ai/e274028-metu-middle-east-technical-university/tinyllama-fewshot/runs/0q82bhjn' target=\"_blank\">https://wandb.ai/e274028-metu-middle-east-technical-university/tinyllama-fewshot/runs/0q82bhjn</a><br> View project at: <a href='https://wandb.ai/e274028-metu-middle-east-technical-university/tinyllama-fewshot' target=\"_blank\">https://wandb.ai/e274028-metu-middle-east-technical-university/tinyllama-fewshot</a><br>Synced 5 W&B file(s), 0 media file(s), 0 artifact file(s) and 0 other file(s)"
      ],
      "text/plain": [
       "<IPython.core.display.HTML object>"
      ]
     },
     "metadata": {},
     "output_type": "display_data"
    },
    {
     "data": {
      "text/html": [
       "Find logs at: <code>./wandb/run-20250623_074326-0q82bhjn/logs</code>"
      ],
      "text/plain": [
       "<IPython.core.display.HTML object>"
      ]
     },
     "metadata": {},
     "output_type": "display_data"
    },
    {
     "name": "stderr",
     "output_type": "stream",
     "text": [
      "\u001b[34m\u001b[1mwandb\u001b[0m: Agent Starting Run: uk7maq5n with config:\n",
      "\u001b[34m\u001b[1mwandb\u001b[0m: \tlora_alpha: 16\n",
      "\u001b[34m\u001b[1mwandb\u001b[0m: \tlora_dropout: 0.05\n",
      "\u001b[34m\u001b[1mwandb\u001b[0m: \tn_shots: 4\n",
      "\u001b[34m\u001b[1mwandb\u001b[0m: \tr: 4\n"
     ]
    },
    {
     "data": {
      "text/html": [
       "Tracking run with wandb version 0.19.11"
      ],
      "text/plain": [
       "<IPython.core.display.HTML object>"
      ]
     },
     "metadata": {},
     "output_type": "display_data"
    },
    {
     "data": {
      "text/html": [
       "Run data is saved locally in <code>/home/cagri/Desktop/IS-584-Term-Project/wandb/run-20250623_075158-uk7maq5n</code>"
      ],
      "text/plain": [
       "<IPython.core.display.HTML object>"
      ]
     },
     "metadata": {},
     "output_type": "display_data"
    },
    {
     "data": {
      "text/html": [
       "Syncing run <strong><a href='https://wandb.ai/e274028-metu-middle-east-technical-university/tinyllama-fewshot/runs/uk7maq5n' target=\"_blank\">brisk-sweep-5</a></strong> to <a href='https://wandb.ai/e274028-metu-middle-east-technical-university/tinyllama-fewshot' target=\"_blank\">Weights & Biases</a> (<a href='https://wandb.me/developer-guide' target=\"_blank\">docs</a>)<br>Sweep page: <a href='https://wandb.ai/e274028-metu-middle-east-technical-university/tinyllama-fewshot/sweeps/cy1gb8xv' target=\"_blank\">https://wandb.ai/e274028-metu-middle-east-technical-university/tinyllama-fewshot/sweeps/cy1gb8xv</a>"
      ],
      "text/plain": [
       "<IPython.core.display.HTML object>"
      ]
     },
     "metadata": {},
     "output_type": "display_data"
    },
    {
     "data": {
      "text/html": [
       " View project at <a href='https://wandb.ai/e274028-metu-middle-east-technical-university/tinyllama-fewshot' target=\"_blank\">https://wandb.ai/e274028-metu-middle-east-technical-university/tinyllama-fewshot</a>"
      ],
      "text/plain": [
       "<IPython.core.display.HTML object>"
      ]
     },
     "metadata": {},
     "output_type": "display_data"
    },
    {
     "data": {
      "text/html": [
       " View sweep at <a href='https://wandb.ai/e274028-metu-middle-east-technical-university/tinyllama-fewshot/sweeps/cy1gb8xv' target=\"_blank\">https://wandb.ai/e274028-metu-middle-east-technical-university/tinyllama-fewshot/sweeps/cy1gb8xv</a>"
      ],
      "text/plain": [
       "<IPython.core.display.HTML object>"
      ]
     },
     "metadata": {},
     "output_type": "display_data"
    },
    {
     "data": {
      "text/html": [
       " View run at <a href='https://wandb.ai/e274028-metu-middle-east-technical-university/tinyllama-fewshot/runs/uk7maq5n' target=\"_blank\">https://wandb.ai/e274028-metu-middle-east-technical-university/tinyllama-fewshot/runs/uk7maq5n</a>"
      ],
      "text/plain": [
       "<IPython.core.display.HTML object>"
      ]
     },
     "metadata": {},
     "output_type": "display_data"
    },
    {
     "name": "stdout",
     "output_type": "stream",
     "text": [
      "=== Validation ===\n",
      "accuracy: 0.3620\n",
      "precision: 0.3310\n",
      "recall: 0.9724\n",
      "f1: 0.4939\n",
      "=== Test ===\n",
      "accuracy: 0.3789\n",
      "precision: 0.3404\n",
      "recall: 0.9932\n",
      "f1: 0.5070\n"
     ]
    },
    {
     "data": {
      "text/html": [],
      "text/plain": [
       "<IPython.core.display.HTML object>"
      ]
     },
     "metadata": {},
     "output_type": "display_data"
    },
    {
     "data": {
      "text/html": [
       " View run <strong style=\"color:#cdcd00\">brisk-sweep-5</strong> at: <a href='https://wandb.ai/e274028-metu-middle-east-technical-university/tinyllama-fewshot/runs/uk7maq5n' target=\"_blank\">https://wandb.ai/e274028-metu-middle-east-technical-university/tinyllama-fewshot/runs/uk7maq5n</a><br> View project at: <a href='https://wandb.ai/e274028-metu-middle-east-technical-university/tinyllama-fewshot' target=\"_blank\">https://wandb.ai/e274028-metu-middle-east-technical-university/tinyllama-fewshot</a><br>Synced 5 W&B file(s), 0 media file(s), 0 artifact file(s) and 0 other file(s)"
      ],
      "text/plain": [
       "<IPython.core.display.HTML object>"
      ]
     },
     "metadata": {},
     "output_type": "display_data"
    },
    {
     "data": {
      "text/html": [
       "Find logs at: <code>./wandb/run-20250623_075158-uk7maq5n/logs</code>"
      ],
      "text/plain": [
       "<IPython.core.display.HTML object>"
      ]
     },
     "metadata": {},
     "output_type": "display_data"
    },
    {
     "name": "stderr",
     "output_type": "stream",
     "text": [
      "\u001b[34m\u001b[1mwandb\u001b[0m: Agent Starting Run: veou8kgc with config:\n",
      "\u001b[34m\u001b[1mwandb\u001b[0m: \tlora_alpha: 16\n",
      "\u001b[34m\u001b[1mwandb\u001b[0m: \tlora_dropout: 0.05\n",
      "\u001b[34m\u001b[1mwandb\u001b[0m: \tn_shots: 4\n",
      "\u001b[34m\u001b[1mwandb\u001b[0m: \tr: 8\n"
     ]
    },
    {
     "data": {
      "text/html": [
       "Tracking run with wandb version 0.19.11"
      ],
      "text/plain": [
       "<IPython.core.display.HTML object>"
      ]
     },
     "metadata": {},
     "output_type": "display_data"
    },
    {
     "data": {
      "text/html": [
       "Run data is saved locally in <code>/home/cagri/Desktop/IS-584-Term-Project/wandb/run-20250623_080949-veou8kgc</code>"
      ],
      "text/plain": [
       "<IPython.core.display.HTML object>"
      ]
     },
     "metadata": {},
     "output_type": "display_data"
    },
    {
     "data": {
      "text/html": [
       "Syncing run <strong><a href='https://wandb.ai/e274028-metu-middle-east-technical-university/tinyllama-fewshot/runs/veou8kgc' target=\"_blank\">swept-sweep-6</a></strong> to <a href='https://wandb.ai/e274028-metu-middle-east-technical-university/tinyllama-fewshot' target=\"_blank\">Weights & Biases</a> (<a href='https://wandb.me/developer-guide' target=\"_blank\">docs</a>)<br>Sweep page: <a href='https://wandb.ai/e274028-metu-middle-east-technical-university/tinyllama-fewshot/sweeps/cy1gb8xv' target=\"_blank\">https://wandb.ai/e274028-metu-middle-east-technical-university/tinyllama-fewshot/sweeps/cy1gb8xv</a>"
      ],
      "text/plain": [
       "<IPython.core.display.HTML object>"
      ]
     },
     "metadata": {},
     "output_type": "display_data"
    },
    {
     "data": {
      "text/html": [
       " View project at <a href='https://wandb.ai/e274028-metu-middle-east-technical-university/tinyllama-fewshot' target=\"_blank\">https://wandb.ai/e274028-metu-middle-east-technical-university/tinyllama-fewshot</a>"
      ],
      "text/plain": [
       "<IPython.core.display.HTML object>"
      ]
     },
     "metadata": {},
     "output_type": "display_data"
    },
    {
     "data": {
      "text/html": [
       " View sweep at <a href='https://wandb.ai/e274028-metu-middle-east-technical-university/tinyllama-fewshot/sweeps/cy1gb8xv' target=\"_blank\">https://wandb.ai/e274028-metu-middle-east-technical-university/tinyllama-fewshot/sweeps/cy1gb8xv</a>"
      ],
      "text/plain": [
       "<IPython.core.display.HTML object>"
      ]
     },
     "metadata": {},
     "output_type": "display_data"
    },
    {
     "data": {
      "text/html": [
       " View run at <a href='https://wandb.ai/e274028-metu-middle-east-technical-university/tinyllama-fewshot/runs/veou8kgc' target=\"_blank\">https://wandb.ai/e274028-metu-middle-east-technical-university/tinyllama-fewshot/runs/veou8kgc</a>"
      ],
      "text/plain": [
       "<IPython.core.display.HTML object>"
      ]
     },
     "metadata": {},
     "output_type": "display_data"
    },
    {
     "data": {
      "text/html": [],
      "text/plain": [
       "<IPython.core.display.HTML object>"
      ]
     },
     "metadata": {},
     "output_type": "display_data"
    },
    {
     "data": {
      "text/html": [
       " View run <strong style=\"color:#cdcd00\">swept-sweep-6</strong> at: <a href='https://wandb.ai/e274028-metu-middle-east-technical-university/tinyllama-fewshot/runs/veou8kgc' target=\"_blank\">https://wandb.ai/e274028-metu-middle-east-technical-university/tinyllama-fewshot/runs/veou8kgc</a><br> View project at: <a href='https://wandb.ai/e274028-metu-middle-east-technical-university/tinyllama-fewshot' target=\"_blank\">https://wandb.ai/e274028-metu-middle-east-technical-university/tinyllama-fewshot</a><br>Synced 5 W&B file(s), 0 media file(s), 0 artifact file(s) and 0 other file(s)"
      ],
      "text/plain": [
       "<IPython.core.display.HTML object>"
      ]
     },
     "metadata": {},
     "output_type": "display_data"
    },
    {
     "data": {
      "text/html": [
       "Find logs at: <code>./wandb/run-20250623_080949-veou8kgc/logs</code>"
      ],
      "text/plain": [
       "<IPython.core.display.HTML object>"
      ]
     },
     "metadata": {},
     "output_type": "display_data"
    },
    {
     "name": "stderr",
     "output_type": "stream",
     "text": [
      "\u001b[34m\u001b[1mwandb\u001b[0m: \u001b[32m\u001b[41mERROR\u001b[0m Run veou8kgc errored:\n",
      "\u001b[34m\u001b[1mwandb\u001b[0m: \u001b[32m\u001b[41mERROR\u001b[0m Traceback (most recent call last):\n",
      "\u001b[34m\u001b[1mwandb\u001b[0m: \u001b[32m\u001b[41mERROR\u001b[0m   File \"/home/cagri/.local/lib/python3.12/site-packages/wandb/agents/pyagent.py\", line 306, in _run_job\n",
      "\u001b[34m\u001b[1mwandb\u001b[0m: \u001b[32m\u001b[41mERROR\u001b[0m     self._function()\n",
      "\u001b[34m\u001b[1mwandb\u001b[0m: \u001b[32m\u001b[41mERROR\u001b[0m   File \"/tmp/ipykernel_960510/2086419514.py\", line 105, in sweep_prompt_eval\n",
      "\u001b[34m\u001b[1mwandb\u001b[0m: \u001b[32m\u001b[41mERROR\u001b[0m     base_model = prepare_model_for_kbit_training(base_model)\n",
      "\u001b[34m\u001b[1mwandb\u001b[0m: \u001b[32m\u001b[41mERROR\u001b[0m                  ^^^^^^^^^^^^^^^^^^^^^^^^^^^^^^^^^^^^^^^^^^^\n",
      "\u001b[34m\u001b[1mwandb\u001b[0m: \u001b[32m\u001b[41mERROR\u001b[0m   File \"/home/cagri/.local/lib/python3.12/site-packages/peft/utils/other.py\", line 141, in prepare_model_for_kbit_training\n",
      "\u001b[34m\u001b[1mwandb\u001b[0m: \u001b[32m\u001b[41mERROR\u001b[0m     param.data = param.data.to(torch.float32)\n",
      "\u001b[34m\u001b[1mwandb\u001b[0m: \u001b[32m\u001b[41mERROR\u001b[0m                  ^^^^^^^^^^^^^^^^^^^^^^^^^^^^\n",
      "\u001b[34m\u001b[1mwandb\u001b[0m: \u001b[32m\u001b[41mERROR\u001b[0m torch.OutOfMemoryError: CUDA out of memory. Tried to allocate 250.00 MiB. GPU 0 has a total capacity of 3.81 GiB of which 95.19 MiB is free. Including non-PyTorch memory, this process has 3.71 GiB memory in use. Of the allocated memory 3.22 GiB is allocated by PyTorch, and 412.07 MiB is reserved by PyTorch but unallocated. If reserved but unallocated memory is large try setting PYTORCH_CUDA_ALLOC_CONF=expandable_segments:True to avoid fragmentation.  See documentation for Memory Management  (https://pytorch.org/docs/stable/notes/cuda.html#environment-variables)\n",
      "\u001b[34m\u001b[1mwandb\u001b[0m: \u001b[32m\u001b[41mERROR\u001b[0m \n",
      "\u001b[34m\u001b[1mwandb\u001b[0m: Sweep Agent: Waiting for job.\n",
      "\u001b[34m\u001b[1mwandb\u001b[0m: Job received.\n",
      "\u001b[34m\u001b[1mwandb\u001b[0m: Agent Starting Run: nzu81brh with config:\n",
      "\u001b[34m\u001b[1mwandb\u001b[0m: \tlora_alpha: 16\n",
      "\u001b[34m\u001b[1mwandb\u001b[0m: \tlora_dropout: 0.1\n",
      "\u001b[34m\u001b[1mwandb\u001b[0m: \tn_shots: 0\n",
      "\u001b[34m\u001b[1mwandb\u001b[0m: \tr: 4\n"
     ]
    },
    {
     "data": {
      "text/html": [
       "Tracking run with wandb version 0.19.11"
      ],
      "text/plain": [
       "<IPython.core.display.HTML object>"
      ]
     },
     "metadata": {},
     "output_type": "display_data"
    },
    {
     "data": {
      "text/html": [
       "Run data is saved locally in <code>/home/cagri/Desktop/IS-584-Term-Project/wandb/run-20250623_081003-nzu81brh</code>"
      ],
      "text/plain": [
       "<IPython.core.display.HTML object>"
      ]
     },
     "metadata": {},
     "output_type": "display_data"
    },
    {
     "data": {
      "text/html": [
       "Syncing run <strong><a href='https://wandb.ai/e274028-metu-middle-east-technical-university/tinyllama-fewshot/runs/nzu81brh' target=\"_blank\">sweet-sweep-7</a></strong> to <a href='https://wandb.ai/e274028-metu-middle-east-technical-university/tinyllama-fewshot' target=\"_blank\">Weights & Biases</a> (<a href='https://wandb.me/developer-guide' target=\"_blank\">docs</a>)<br>Sweep page: <a href='https://wandb.ai/e274028-metu-middle-east-technical-university/tinyllama-fewshot/sweeps/cy1gb8xv' target=\"_blank\">https://wandb.ai/e274028-metu-middle-east-technical-university/tinyllama-fewshot/sweeps/cy1gb8xv</a>"
      ],
      "text/plain": [
       "<IPython.core.display.HTML object>"
      ]
     },
     "metadata": {},
     "output_type": "display_data"
    },
    {
     "data": {
      "text/html": [
       " View project at <a href='https://wandb.ai/e274028-metu-middle-east-technical-university/tinyllama-fewshot' target=\"_blank\">https://wandb.ai/e274028-metu-middle-east-technical-university/tinyllama-fewshot</a>"
      ],
      "text/plain": [
       "<IPython.core.display.HTML object>"
      ]
     },
     "metadata": {},
     "output_type": "display_data"
    },
    {
     "data": {
      "text/html": [
       " View sweep at <a href='https://wandb.ai/e274028-metu-middle-east-technical-university/tinyllama-fewshot/sweeps/cy1gb8xv' target=\"_blank\">https://wandb.ai/e274028-metu-middle-east-technical-university/tinyllama-fewshot/sweeps/cy1gb8xv</a>"
      ],
      "text/plain": [
       "<IPython.core.display.HTML object>"
      ]
     },
     "metadata": {},
     "output_type": "display_data"
    },
    {
     "data": {
      "text/html": [
       " View run at <a href='https://wandb.ai/e274028-metu-middle-east-technical-university/tinyllama-fewshot/runs/nzu81brh' target=\"_blank\">https://wandb.ai/e274028-metu-middle-east-technical-university/tinyllama-fewshot/runs/nzu81brh</a>"
      ],
      "text/plain": [
       "<IPython.core.display.HTML object>"
      ]
     },
     "metadata": {},
     "output_type": "display_data"
    },
    {
     "data": {
      "text/html": [],
      "text/plain": [
       "<IPython.core.display.HTML object>"
      ]
     },
     "metadata": {},
     "output_type": "display_data"
    },
    {
     "data": {
      "text/html": [
       " View run <strong style=\"color:#cdcd00\">sweet-sweep-7</strong> at: <a href='https://wandb.ai/e274028-metu-middle-east-technical-university/tinyllama-fewshot/runs/nzu81brh' target=\"_blank\">https://wandb.ai/e274028-metu-middle-east-technical-university/tinyllama-fewshot/runs/nzu81brh</a><br> View project at: <a href='https://wandb.ai/e274028-metu-middle-east-technical-university/tinyllama-fewshot' target=\"_blank\">https://wandb.ai/e274028-metu-middle-east-technical-university/tinyllama-fewshot</a><br>Synced 5 W&B file(s), 0 media file(s), 0 artifact file(s) and 0 other file(s)"
      ],
      "text/plain": [
       "<IPython.core.display.HTML object>"
      ]
     },
     "metadata": {},
     "output_type": "display_data"
    },
    {
     "data": {
      "text/html": [
       "Find logs at: <code>./wandb/run-20250623_081003-nzu81brh/logs</code>"
      ],
      "text/plain": [
       "<IPython.core.display.HTML object>"
      ]
     },
     "metadata": {},
     "output_type": "display_data"
    },
    {
     "name": "stderr",
     "output_type": "stream",
     "text": [
      "\u001b[34m\u001b[1mwandb\u001b[0m: \u001b[32m\u001b[41mERROR\u001b[0m Run nzu81brh errored:\n",
      "\u001b[34m\u001b[1mwandb\u001b[0m: \u001b[32m\u001b[41mERROR\u001b[0m Traceback (most recent call last):\n",
      "\u001b[34m\u001b[1mwandb\u001b[0m: \u001b[32m\u001b[41mERROR\u001b[0m   File \"/home/cagri/.local/lib/python3.12/site-packages/wandb/agents/pyagent.py\", line 306, in _run_job\n",
      "\u001b[34m\u001b[1mwandb\u001b[0m: \u001b[32m\u001b[41mERROR\u001b[0m     self._function()\n",
      "\u001b[34m\u001b[1mwandb\u001b[0m: \u001b[32m\u001b[41mERROR\u001b[0m   File \"/tmp/ipykernel_960510/2086419514.py\", line 98, in sweep_prompt_eval\n",
      "\u001b[34m\u001b[1mwandb\u001b[0m: \u001b[32m\u001b[41mERROR\u001b[0m     base_model = AutoModelForCausalLM.from_pretrained(\n",
      "\u001b[34m\u001b[1mwandb\u001b[0m: \u001b[32m\u001b[41mERROR\u001b[0m                  ^^^^^^^^^^^^^^^^^^^^^^^^^^^^^^^^^^^^^\n",
      "\u001b[34m\u001b[1mwandb\u001b[0m: \u001b[32m\u001b[41mERROR\u001b[0m   File \"/home/cagri/.local/lib/python3.12/site-packages/transformers/models/auto/auto_factory.py\", line 571, in from_pretrained\n",
      "\u001b[34m\u001b[1mwandb\u001b[0m: \u001b[32m\u001b[41mERROR\u001b[0m     return model_class.from_pretrained(\n",
      "\u001b[34m\u001b[1mwandb\u001b[0m: \u001b[32m\u001b[41mERROR\u001b[0m            ^^^^^^^^^^^^^^^^^^^^^^^^^^^^\n",
      "\u001b[34m\u001b[1mwandb\u001b[0m: \u001b[32m\u001b[41mERROR\u001b[0m   File \"/home/cagri/.local/lib/python3.12/site-packages/transformers/modeling_utils.py\", line 309, in _wrapper\n",
      "\u001b[34m\u001b[1mwandb\u001b[0m: \u001b[32m\u001b[41mERROR\u001b[0m     return func(*args, **kwargs)\n",
      "\u001b[34m\u001b[1mwandb\u001b[0m: \u001b[32m\u001b[41mERROR\u001b[0m            ^^^^^^^^^^^^^^^^^^^^^\n",
      "\u001b[34m\u001b[1mwandb\u001b[0m: \u001b[32m\u001b[41mERROR\u001b[0m   File \"/home/cagri/.local/lib/python3.12/site-packages/transformers/modeling_utils.py\", line 4554, in from_pretrained\n",
      "\u001b[34m\u001b[1mwandb\u001b[0m: \u001b[32m\u001b[41mERROR\u001b[0m     device_map = _get_device_map(model, device_map, max_memory, hf_quantizer, torch_dtype, keep_in_fp32_regex)\n",
      "\u001b[34m\u001b[1mwandb\u001b[0m: \u001b[32m\u001b[41mERROR\u001b[0m                  ^^^^^^^^^^^^^^^^^^^^^^^^^^^^^^^^^^^^^^^^^^^^^^^^^^^^^^^^^^^^^^^^^^^^^^^^^^^^^^^^^^^^^^^^^^^^^\n",
      "\u001b[34m\u001b[1mwandb\u001b[0m: \u001b[32m\u001b[41mERROR\u001b[0m   File \"/home/cagri/.local/lib/python3.12/site-packages/transformers/modeling_utils.py\", line 1343, in _get_device_map\n",
      "\u001b[34m\u001b[1mwandb\u001b[0m: \u001b[32m\u001b[41mERROR\u001b[0m     hf_quantizer.validate_environment(device_map=device_map)\n",
      "\u001b[34m\u001b[1mwandb\u001b[0m: \u001b[32m\u001b[41mERROR\u001b[0m   File \"/home/cagri/.local/lib/python3.12/site-packages/transformers/quantizers/quantizer_bnb_4bit.py\", line 104, in validate_environment\n",
      "\u001b[34m\u001b[1mwandb\u001b[0m: \u001b[32m\u001b[41mERROR\u001b[0m     raise ValueError(\n",
      "\u001b[34m\u001b[1mwandb\u001b[0m: \u001b[32m\u001b[41mERROR\u001b[0m ValueError: Some modules are dispatched on the CPU or the disk. Make sure you have enough GPU RAM to fit the quantized model. If you want to dispatch the model on the CPU or the disk while keeping these modules in 32-bit, you need to set `llm_int8_enable_fp32_cpu_offload=True` and pass a custom `device_map` to `from_pretrained`. Check https://huggingface.co/docs/transformers/main/en/main_classes/quantization#offload-between-cpu-and-gpu for more details. \n",
      "\u001b[34m\u001b[1mwandb\u001b[0m: \u001b[32m\u001b[41mERROR\u001b[0m \n",
      "\u001b[34m\u001b[1mwandb\u001b[0m: Agent Starting Run: 0ugvfweh with config:\n",
      "\u001b[34m\u001b[1mwandb\u001b[0m: \tlora_alpha: 16\n",
      "\u001b[34m\u001b[1mwandb\u001b[0m: \tlora_dropout: 0.1\n",
      "\u001b[34m\u001b[1mwandb\u001b[0m: \tn_shots: 0\n",
      "\u001b[34m\u001b[1mwandb\u001b[0m: \tr: 8\n"
     ]
    },
    {
     "data": {
      "text/html": [
       "Tracking run with wandb version 0.19.11"
      ],
      "text/plain": [
       "<IPython.core.display.HTML object>"
      ]
     },
     "metadata": {},
     "output_type": "display_data"
    },
    {
     "data": {
      "text/html": [
       "Run data is saved locally in <code>/home/cagri/Desktop/IS-584-Term-Project/wandb/run-20250623_081010-0ugvfweh</code>"
      ],
      "text/plain": [
       "<IPython.core.display.HTML object>"
      ]
     },
     "metadata": {},
     "output_type": "display_data"
    },
    {
     "data": {
      "text/html": [
       "Syncing run <strong><a href='https://wandb.ai/e274028-metu-middle-east-technical-university/tinyllama-fewshot/runs/0ugvfweh' target=\"_blank\">rural-sweep-8</a></strong> to <a href='https://wandb.ai/e274028-metu-middle-east-technical-university/tinyllama-fewshot' target=\"_blank\">Weights & Biases</a> (<a href='https://wandb.me/developer-guide' target=\"_blank\">docs</a>)<br>Sweep page: <a href='https://wandb.ai/e274028-metu-middle-east-technical-university/tinyllama-fewshot/sweeps/cy1gb8xv' target=\"_blank\">https://wandb.ai/e274028-metu-middle-east-technical-university/tinyllama-fewshot/sweeps/cy1gb8xv</a>"
      ],
      "text/plain": [
       "<IPython.core.display.HTML object>"
      ]
     },
     "metadata": {},
     "output_type": "display_data"
    },
    {
     "data": {
      "text/html": [
       " View project at <a href='https://wandb.ai/e274028-metu-middle-east-technical-university/tinyllama-fewshot' target=\"_blank\">https://wandb.ai/e274028-metu-middle-east-technical-university/tinyllama-fewshot</a>"
      ],
      "text/plain": [
       "<IPython.core.display.HTML object>"
      ]
     },
     "metadata": {},
     "output_type": "display_data"
    },
    {
     "data": {
      "text/html": [
       " View sweep at <a href='https://wandb.ai/e274028-metu-middle-east-technical-university/tinyllama-fewshot/sweeps/cy1gb8xv' target=\"_blank\">https://wandb.ai/e274028-metu-middle-east-technical-university/tinyllama-fewshot/sweeps/cy1gb8xv</a>"
      ],
      "text/plain": [
       "<IPython.core.display.HTML object>"
      ]
     },
     "metadata": {},
     "output_type": "display_data"
    },
    {
     "data": {
      "text/html": [
       " View run at <a href='https://wandb.ai/e274028-metu-middle-east-technical-university/tinyllama-fewshot/runs/0ugvfweh' target=\"_blank\">https://wandb.ai/e274028-metu-middle-east-technical-university/tinyllama-fewshot/runs/0ugvfweh</a>"
      ],
      "text/plain": [
       "<IPython.core.display.HTML object>"
      ]
     },
     "metadata": {},
     "output_type": "display_data"
    },
    {
     "name": "stdout",
     "output_type": "stream",
     "text": [
      "=== Validation ===\n",
      "accuracy: 0.6578\n",
      "precision: 0.4813\n",
      "recall: 0.8897\n",
      "f1: 0.6247\n",
      "=== Test ===\n",
      "accuracy: 0.6564\n",
      "precision: 0.4818\n",
      "recall: 0.9041\n",
      "f1: 0.6286\n"
     ]
    },
    {
     "data": {
      "text/html": [],
      "text/plain": [
       "<IPython.core.display.HTML object>"
      ]
     },
     "metadata": {},
     "output_type": "display_data"
    },
    {
     "data": {
      "text/html": [
       " View run <strong style=\"color:#cdcd00\">rural-sweep-8</strong> at: <a href='https://wandb.ai/e274028-metu-middle-east-technical-university/tinyllama-fewshot/runs/0ugvfweh' target=\"_blank\">https://wandb.ai/e274028-metu-middle-east-technical-university/tinyllama-fewshot/runs/0ugvfweh</a><br> View project at: <a href='https://wandb.ai/e274028-metu-middle-east-technical-university/tinyllama-fewshot' target=\"_blank\">https://wandb.ai/e274028-metu-middle-east-technical-university/tinyllama-fewshot</a><br>Synced 5 W&B file(s), 0 media file(s), 0 artifact file(s) and 0 other file(s)"
      ],
      "text/plain": [
       "<IPython.core.display.HTML object>"
      ]
     },
     "metadata": {},
     "output_type": "display_data"
    },
    {
     "data": {
      "text/html": [
       "Find logs at: <code>./wandb/run-20250623_081010-0ugvfweh/logs</code>"
      ],
      "text/plain": [
       "<IPython.core.display.HTML object>"
      ]
     },
     "metadata": {},
     "output_type": "display_data"
    },
    {
     "name": "stderr",
     "output_type": "stream",
     "text": [
      "\u001b[34m\u001b[1mwandb\u001b[0m: Agent Starting Run: p57bqckn with config:\n",
      "\u001b[34m\u001b[1mwandb\u001b[0m: \tlora_alpha: 16\n",
      "\u001b[34m\u001b[1mwandb\u001b[0m: \tlora_dropout: 0.1\n",
      "\u001b[34m\u001b[1mwandb\u001b[0m: \tn_shots: 2\n",
      "\u001b[34m\u001b[1mwandb\u001b[0m: \tr: 4\n"
     ]
    },
    {
     "data": {
      "text/html": [
       "Tracking run with wandb version 0.19.11"
      ],
      "text/plain": [
       "<IPython.core.display.HTML object>"
      ]
     },
     "metadata": {},
     "output_type": "display_data"
    },
    {
     "data": {
      "text/html": [
       "Run data is saved locally in <code>/home/cagri/Desktop/IS-584-Term-Project/wandb/run-20250623_081719-p57bqckn</code>"
      ],
      "text/plain": [
       "<IPython.core.display.HTML object>"
      ]
     },
     "metadata": {},
     "output_type": "display_data"
    },
    {
     "data": {
      "text/html": [
       "Syncing run <strong><a href='https://wandb.ai/e274028-metu-middle-east-technical-university/tinyllama-fewshot/runs/p57bqckn' target=\"_blank\">firm-sweep-9</a></strong> to <a href='https://wandb.ai/e274028-metu-middle-east-technical-university/tinyllama-fewshot' target=\"_blank\">Weights & Biases</a> (<a href='https://wandb.me/developer-guide' target=\"_blank\">docs</a>)<br>Sweep page: <a href='https://wandb.ai/e274028-metu-middle-east-technical-university/tinyllama-fewshot/sweeps/cy1gb8xv' target=\"_blank\">https://wandb.ai/e274028-metu-middle-east-technical-university/tinyllama-fewshot/sweeps/cy1gb8xv</a>"
      ],
      "text/plain": [
       "<IPython.core.display.HTML object>"
      ]
     },
     "metadata": {},
     "output_type": "display_data"
    },
    {
     "data": {
      "text/html": [
       " View project at <a href='https://wandb.ai/e274028-metu-middle-east-technical-university/tinyllama-fewshot' target=\"_blank\">https://wandb.ai/e274028-metu-middle-east-technical-university/tinyllama-fewshot</a>"
      ],
      "text/plain": [
       "<IPython.core.display.HTML object>"
      ]
     },
     "metadata": {},
     "output_type": "display_data"
    },
    {
     "data": {
      "text/html": [
       " View sweep at <a href='https://wandb.ai/e274028-metu-middle-east-technical-university/tinyllama-fewshot/sweeps/cy1gb8xv' target=\"_blank\">https://wandb.ai/e274028-metu-middle-east-technical-university/tinyllama-fewshot/sweeps/cy1gb8xv</a>"
      ],
      "text/plain": [
       "<IPython.core.display.HTML object>"
      ]
     },
     "metadata": {},
     "output_type": "display_data"
    },
    {
     "data": {
      "text/html": [
       " View run at <a href='https://wandb.ai/e274028-metu-middle-east-technical-university/tinyllama-fewshot/runs/p57bqckn' target=\"_blank\">https://wandb.ai/e274028-metu-middle-east-technical-university/tinyllama-fewshot/runs/p57bqckn</a>"
      ],
      "text/plain": [
       "<IPython.core.display.HTML object>"
      ]
     },
     "metadata": {},
     "output_type": "display_data"
    },
    {
     "name": "stdout",
     "output_type": "stream",
     "text": [
      "=== Validation ===\n",
      "accuracy: 0.4879\n",
      "precision: 0.3795\n",
      "recall: 0.9448\n",
      "f1: 0.5415\n",
      "=== Test ===\n",
      "accuracy: 0.5286\n",
      "precision: 0.4023\n",
      "recall: 0.9589\n",
      "f1: 0.5668\n"
     ]
    },
    {
     "data": {
      "text/html": [],
      "text/plain": [
       "<IPython.core.display.HTML object>"
      ]
     },
     "metadata": {},
     "output_type": "display_data"
    },
    {
     "data": {
      "text/html": [
       " View run <strong style=\"color:#cdcd00\">firm-sweep-9</strong> at: <a href='https://wandb.ai/e274028-metu-middle-east-technical-university/tinyllama-fewshot/runs/p57bqckn' target=\"_blank\">https://wandb.ai/e274028-metu-middle-east-technical-university/tinyllama-fewshot/runs/p57bqckn</a><br> View project at: <a href='https://wandb.ai/e274028-metu-middle-east-technical-university/tinyllama-fewshot' target=\"_blank\">https://wandb.ai/e274028-metu-middle-east-technical-university/tinyllama-fewshot</a><br>Synced 5 W&B file(s), 0 media file(s), 0 artifact file(s) and 0 other file(s)"
      ],
      "text/plain": [
       "<IPython.core.display.HTML object>"
      ]
     },
     "metadata": {},
     "output_type": "display_data"
    },
    {
     "data": {
      "text/html": [
       "Find logs at: <code>./wandb/run-20250623_081719-p57bqckn/logs</code>"
      ],
      "text/plain": [
       "<IPython.core.display.HTML object>"
      ]
     },
     "metadata": {},
     "output_type": "display_data"
    },
    {
     "name": "stderr",
     "output_type": "stream",
     "text": [
      "\u001b[34m\u001b[1mwandb\u001b[0m: Agent Starting Run: lbuifmzt with config:\n",
      "\u001b[34m\u001b[1mwandb\u001b[0m: \tlora_alpha: 16\n",
      "\u001b[34m\u001b[1mwandb\u001b[0m: \tlora_dropout: 0.1\n",
      "\u001b[34m\u001b[1mwandb\u001b[0m: \tn_shots: 2\n",
      "\u001b[34m\u001b[1mwandb\u001b[0m: \tr: 8\n"
     ]
    },
    {
     "data": {
      "text/html": [
       "Tracking run with wandb version 0.19.11"
      ],
      "text/plain": [
       "<IPython.core.display.HTML object>"
      ]
     },
     "metadata": {},
     "output_type": "display_data"
    },
    {
     "data": {
      "text/html": [
       "Run data is saved locally in <code>/home/cagri/Desktop/IS-584-Term-Project/wandb/run-20250623_082734-lbuifmzt</code>"
      ],
      "text/plain": [
       "<IPython.core.display.HTML object>"
      ]
     },
     "metadata": {},
     "output_type": "display_data"
    },
    {
     "data": {
      "text/html": [
       "Syncing run <strong><a href='https://wandb.ai/e274028-metu-middle-east-technical-university/tinyllama-fewshot/runs/lbuifmzt' target=\"_blank\">absurd-sweep-10</a></strong> to <a href='https://wandb.ai/e274028-metu-middle-east-technical-university/tinyllama-fewshot' target=\"_blank\">Weights & Biases</a> (<a href='https://wandb.me/developer-guide' target=\"_blank\">docs</a>)<br>Sweep page: <a href='https://wandb.ai/e274028-metu-middle-east-technical-university/tinyllama-fewshot/sweeps/cy1gb8xv' target=\"_blank\">https://wandb.ai/e274028-metu-middle-east-technical-university/tinyllama-fewshot/sweeps/cy1gb8xv</a>"
      ],
      "text/plain": [
       "<IPython.core.display.HTML object>"
      ]
     },
     "metadata": {},
     "output_type": "display_data"
    },
    {
     "data": {
      "text/html": [
       " View project at <a href='https://wandb.ai/e274028-metu-middle-east-technical-university/tinyllama-fewshot' target=\"_blank\">https://wandb.ai/e274028-metu-middle-east-technical-university/tinyllama-fewshot</a>"
      ],
      "text/plain": [
       "<IPython.core.display.HTML object>"
      ]
     },
     "metadata": {},
     "output_type": "display_data"
    },
    {
     "data": {
      "text/html": [
       " View sweep at <a href='https://wandb.ai/e274028-metu-middle-east-technical-university/tinyllama-fewshot/sweeps/cy1gb8xv' target=\"_blank\">https://wandb.ai/e274028-metu-middle-east-technical-university/tinyllama-fewshot/sweeps/cy1gb8xv</a>"
      ],
      "text/plain": [
       "<IPython.core.display.HTML object>"
      ]
     },
     "metadata": {},
     "output_type": "display_data"
    },
    {
     "data": {
      "text/html": [
       " View run at <a href='https://wandb.ai/e274028-metu-middle-east-technical-university/tinyllama-fewshot/runs/lbuifmzt' target=\"_blank\">https://wandb.ai/e274028-metu-middle-east-technical-university/tinyllama-fewshot/runs/lbuifmzt</a>"
      ],
      "text/plain": [
       "<IPython.core.display.HTML object>"
      ]
     },
     "metadata": {},
     "output_type": "display_data"
    },
    {
     "name": "stdout",
     "output_type": "stream",
     "text": [
      "=== Validation ===\n",
      "accuracy: 0.4879\n",
      "precision: 0.3795\n",
      "recall: 0.9448\n",
      "f1: 0.5415\n",
      "=== Test ===\n",
      "accuracy: 0.5286\n",
      "precision: 0.4023\n",
      "recall: 0.9589\n",
      "f1: 0.5668\n"
     ]
    },
    {
     "data": {
      "text/html": [],
      "text/plain": [
       "<IPython.core.display.HTML object>"
      ]
     },
     "metadata": {},
     "output_type": "display_data"
    },
    {
     "data": {
      "text/html": [
       " View run <strong style=\"color:#cdcd00\">absurd-sweep-10</strong> at: <a href='https://wandb.ai/e274028-metu-middle-east-technical-university/tinyllama-fewshot/runs/lbuifmzt' target=\"_blank\">https://wandb.ai/e274028-metu-middle-east-technical-university/tinyllama-fewshot/runs/lbuifmzt</a><br> View project at: <a href='https://wandb.ai/e274028-metu-middle-east-technical-university/tinyllama-fewshot' target=\"_blank\">https://wandb.ai/e274028-metu-middle-east-technical-university/tinyllama-fewshot</a><br>Synced 5 W&B file(s), 0 media file(s), 0 artifact file(s) and 0 other file(s)"
      ],
      "text/plain": [
       "<IPython.core.display.HTML object>"
      ]
     },
     "metadata": {},
     "output_type": "display_data"
    },
    {
     "data": {
      "text/html": [
       "Find logs at: <code>./wandb/run-20250623_082734-lbuifmzt/logs</code>"
      ],
      "text/plain": [
       "<IPython.core.display.HTML object>"
      ]
     },
     "metadata": {},
     "output_type": "display_data"
    },
    {
     "name": "stderr",
     "output_type": "stream",
     "text": [
      "\u001b[34m\u001b[1mwandb\u001b[0m: Agent Starting Run: okszxjr4 with config:\n",
      "\u001b[34m\u001b[1mwandb\u001b[0m: \tlora_alpha: 16\n",
      "\u001b[34m\u001b[1mwandb\u001b[0m: \tlora_dropout: 0.1\n",
      "\u001b[34m\u001b[1mwandb\u001b[0m: \tn_shots: 4\n",
      "\u001b[34m\u001b[1mwandb\u001b[0m: \tr: 4\n"
     ]
    },
    {
     "data": {
      "text/html": [
       "Tracking run with wandb version 0.19.11"
      ],
      "text/plain": [
       "<IPython.core.display.HTML object>"
      ]
     },
     "metadata": {},
     "output_type": "display_data"
    },
    {
     "data": {
      "text/html": [
       "Run data is saved locally in <code>/home/cagri/Desktop/IS-584-Term-Project/wandb/run-20250623_083633-okszxjr4</code>"
      ],
      "text/plain": [
       "<IPython.core.display.HTML object>"
      ]
     },
     "metadata": {},
     "output_type": "display_data"
    },
    {
     "data": {
      "text/html": [
       "Syncing run <strong><a href='https://wandb.ai/e274028-metu-middle-east-technical-university/tinyllama-fewshot/runs/okszxjr4' target=\"_blank\">expert-sweep-11</a></strong> to <a href='https://wandb.ai/e274028-metu-middle-east-technical-university/tinyllama-fewshot' target=\"_blank\">Weights & Biases</a> (<a href='https://wandb.me/developer-guide' target=\"_blank\">docs</a>)<br>Sweep page: <a href='https://wandb.ai/e274028-metu-middle-east-technical-university/tinyllama-fewshot/sweeps/cy1gb8xv' target=\"_blank\">https://wandb.ai/e274028-metu-middle-east-technical-university/tinyllama-fewshot/sweeps/cy1gb8xv</a>"
      ],
      "text/plain": [
       "<IPython.core.display.HTML object>"
      ]
     },
     "metadata": {},
     "output_type": "display_data"
    },
    {
     "data": {
      "text/html": [
       " View project at <a href='https://wandb.ai/e274028-metu-middle-east-technical-university/tinyllama-fewshot' target=\"_blank\">https://wandb.ai/e274028-metu-middle-east-technical-university/tinyllama-fewshot</a>"
      ],
      "text/plain": [
       "<IPython.core.display.HTML object>"
      ]
     },
     "metadata": {},
     "output_type": "display_data"
    },
    {
     "data": {
      "text/html": [
       " View sweep at <a href='https://wandb.ai/e274028-metu-middle-east-technical-university/tinyllama-fewshot/sweeps/cy1gb8xv' target=\"_blank\">https://wandb.ai/e274028-metu-middle-east-technical-university/tinyllama-fewshot/sweeps/cy1gb8xv</a>"
      ],
      "text/plain": [
       "<IPython.core.display.HTML object>"
      ]
     },
     "metadata": {},
     "output_type": "display_data"
    },
    {
     "data": {
      "text/html": [
       " View run at <a href='https://wandb.ai/e274028-metu-middle-east-technical-university/tinyllama-fewshot/runs/okszxjr4' target=\"_blank\">https://wandb.ai/e274028-metu-middle-east-technical-university/tinyllama-fewshot/runs/okszxjr4</a>"
      ],
      "text/plain": [
       "<IPython.core.display.HTML object>"
      ]
     },
     "metadata": {},
     "output_type": "display_data"
    },
    {
     "data": {
      "text/html": [],
      "text/plain": [
       "<IPython.core.display.HTML object>"
      ]
     },
     "metadata": {},
     "output_type": "display_data"
    },
    {
     "data": {
      "text/html": [
       " View run <strong style=\"color:#cdcd00\">expert-sweep-11</strong> at: <a href='https://wandb.ai/e274028-metu-middle-east-technical-university/tinyllama-fewshot/runs/okszxjr4' target=\"_blank\">https://wandb.ai/e274028-metu-middle-east-technical-university/tinyllama-fewshot/runs/okszxjr4</a><br> View project at: <a href='https://wandb.ai/e274028-metu-middle-east-technical-university/tinyllama-fewshot' target=\"_blank\">https://wandb.ai/e274028-metu-middle-east-technical-university/tinyllama-fewshot</a><br>Synced 5 W&B file(s), 0 media file(s), 0 artifact file(s) and 0 other file(s)"
      ],
      "text/plain": [
       "<IPython.core.display.HTML object>"
      ]
     },
     "metadata": {},
     "output_type": "display_data"
    },
    {
     "data": {
      "text/html": [
       "Find logs at: <code>./wandb/run-20250623_083633-okszxjr4/logs</code>"
      ],
      "text/plain": [
       "<IPython.core.display.HTML object>"
      ]
     },
     "metadata": {},
     "output_type": "display_data"
    },
    {
     "name": "stderr",
     "output_type": "stream",
     "text": [
      "\u001b[34m\u001b[1mwandb\u001b[0m: \u001b[32m\u001b[41mERROR\u001b[0m Run okszxjr4 errored:\n",
      "\u001b[34m\u001b[1mwandb\u001b[0m: \u001b[32m\u001b[41mERROR\u001b[0m Traceback (most recent call last):\n",
      "\u001b[34m\u001b[1mwandb\u001b[0m: \u001b[32m\u001b[41mERROR\u001b[0m   File \"/home/cagri/.local/lib/python3.12/site-packages/wandb/agents/pyagent.py\", line 306, in _run_job\n",
      "\u001b[34m\u001b[1mwandb\u001b[0m: \u001b[32m\u001b[41mERROR\u001b[0m     self._function()\n",
      "\u001b[34m\u001b[1mwandb\u001b[0m: \u001b[32m\u001b[41mERROR\u001b[0m   File \"/tmp/ipykernel_960510/2086419514.py\", line 105, in sweep_prompt_eval\n",
      "\u001b[34m\u001b[1mwandb\u001b[0m: \u001b[32m\u001b[41mERROR\u001b[0m     base_model = prepare_model_for_kbit_training(base_model)\n",
      "\u001b[34m\u001b[1mwandb\u001b[0m: \u001b[32m\u001b[41mERROR\u001b[0m                  ^^^^^^^^^^^^^^^^^^^^^^^^^^^^^^^^^^^^^^^^^^^\n",
      "\u001b[34m\u001b[1mwandb\u001b[0m: \u001b[32m\u001b[41mERROR\u001b[0m   File \"/home/cagri/.local/lib/python3.12/site-packages/peft/utils/other.py\", line 141, in prepare_model_for_kbit_training\n",
      "\u001b[34m\u001b[1mwandb\u001b[0m: \u001b[32m\u001b[41mERROR\u001b[0m     param.data = param.data.to(torch.float32)\n",
      "\u001b[34m\u001b[1mwandb\u001b[0m: \u001b[32m\u001b[41mERROR\u001b[0m                  ^^^^^^^^^^^^^^^^^^^^^^^^^^^^\n",
      "\u001b[34m\u001b[1mwandb\u001b[0m: \u001b[32m\u001b[41mERROR\u001b[0m torch.OutOfMemoryError: CUDA out of memory. Tried to allocate 250.00 MiB. GPU 0 has a total capacity of 3.81 GiB of which 119.19 MiB is free. Including non-PyTorch memory, this process has 3.68 GiB memory in use. Of the allocated memory 3.11 GiB is allocated by PyTorch, and 494.94 MiB is reserved by PyTorch but unallocated. If reserved but unallocated memory is large try setting PYTORCH_CUDA_ALLOC_CONF=expandable_segments:True to avoid fragmentation.  See documentation for Memory Management  (https://pytorch.org/docs/stable/notes/cuda.html#environment-variables)\n",
      "\u001b[34m\u001b[1mwandb\u001b[0m: \u001b[32m\u001b[41mERROR\u001b[0m \n",
      "\u001b[34m\u001b[1mwandb\u001b[0m: Agent Starting Run: sbujqwvs with config:\n",
      "\u001b[34m\u001b[1mwandb\u001b[0m: \tlora_alpha: 16\n",
      "\u001b[34m\u001b[1mwandb\u001b[0m: \tlora_dropout: 0.1\n",
      "\u001b[34m\u001b[1mwandb\u001b[0m: \tn_shots: 4\n",
      "\u001b[34m\u001b[1mwandb\u001b[0m: \tr: 8\n"
     ]
    },
    {
     "data": {
      "text/html": [
       "Tracking run with wandb version 0.19.11"
      ],
      "text/plain": [
       "<IPython.core.display.HTML object>"
      ]
     },
     "metadata": {},
     "output_type": "display_data"
    },
    {
     "data": {
      "text/html": [
       "Run data is saved locally in <code>/home/cagri/Desktop/IS-584-Term-Project/wandb/run-20250623_083643-sbujqwvs</code>"
      ],
      "text/plain": [
       "<IPython.core.display.HTML object>"
      ]
     },
     "metadata": {},
     "output_type": "display_data"
    },
    {
     "data": {
      "text/html": [
       "Syncing run <strong><a href='https://wandb.ai/e274028-metu-middle-east-technical-university/tinyllama-fewshot/runs/sbujqwvs' target=\"_blank\">solar-sweep-12</a></strong> to <a href='https://wandb.ai/e274028-metu-middle-east-technical-university/tinyllama-fewshot' target=\"_blank\">Weights & Biases</a> (<a href='https://wandb.me/developer-guide' target=\"_blank\">docs</a>)<br>Sweep page: <a href='https://wandb.ai/e274028-metu-middle-east-technical-university/tinyllama-fewshot/sweeps/cy1gb8xv' target=\"_blank\">https://wandb.ai/e274028-metu-middle-east-technical-university/tinyllama-fewshot/sweeps/cy1gb8xv</a>"
      ],
      "text/plain": [
       "<IPython.core.display.HTML object>"
      ]
     },
     "metadata": {},
     "output_type": "display_data"
    },
    {
     "data": {
      "text/html": [
       " View project at <a href='https://wandb.ai/e274028-metu-middle-east-technical-university/tinyllama-fewshot' target=\"_blank\">https://wandb.ai/e274028-metu-middle-east-technical-university/tinyllama-fewshot</a>"
      ],
      "text/plain": [
       "<IPython.core.display.HTML object>"
      ]
     },
     "metadata": {},
     "output_type": "display_data"
    },
    {
     "data": {
      "text/html": [
       " View sweep at <a href='https://wandb.ai/e274028-metu-middle-east-technical-university/tinyllama-fewshot/sweeps/cy1gb8xv' target=\"_blank\">https://wandb.ai/e274028-metu-middle-east-technical-university/tinyllama-fewshot/sweeps/cy1gb8xv</a>"
      ],
      "text/plain": [
       "<IPython.core.display.HTML object>"
      ]
     },
     "metadata": {},
     "output_type": "display_data"
    },
    {
     "data": {
      "text/html": [
       " View run at <a href='https://wandb.ai/e274028-metu-middle-east-technical-university/tinyllama-fewshot/runs/sbujqwvs' target=\"_blank\">https://wandb.ai/e274028-metu-middle-east-technical-university/tinyllama-fewshot/runs/sbujqwvs</a>"
      ],
      "text/plain": [
       "<IPython.core.display.HTML object>"
      ]
     },
     "metadata": {},
     "output_type": "display_data"
    },
    {
     "data": {
      "text/html": [],
      "text/plain": [
       "<IPython.core.display.HTML object>"
      ]
     },
     "metadata": {},
     "output_type": "display_data"
    },
    {
     "data": {
      "text/html": [
       " View run <strong style=\"color:#cdcd00\">solar-sweep-12</strong> at: <a href='https://wandb.ai/e274028-metu-middle-east-technical-university/tinyllama-fewshot/runs/sbujqwvs' target=\"_blank\">https://wandb.ai/e274028-metu-middle-east-technical-university/tinyllama-fewshot/runs/sbujqwvs</a><br> View project at: <a href='https://wandb.ai/e274028-metu-middle-east-technical-university/tinyllama-fewshot' target=\"_blank\">https://wandb.ai/e274028-metu-middle-east-technical-university/tinyllama-fewshot</a><br>Synced 5 W&B file(s), 0 media file(s), 0 artifact file(s) and 0 other file(s)"
      ],
      "text/plain": [
       "<IPython.core.display.HTML object>"
      ]
     },
     "metadata": {},
     "output_type": "display_data"
    },
    {
     "data": {
      "text/html": [
       "Find logs at: <code>./wandb/run-20250623_083643-sbujqwvs/logs</code>"
      ],
      "text/plain": [
       "<IPython.core.display.HTML object>"
      ]
     },
     "metadata": {},
     "output_type": "display_data"
    },
    {
     "name": "stderr",
     "output_type": "stream",
     "text": [
      "\u001b[34m\u001b[1mwandb\u001b[0m: \u001b[32m\u001b[41mERROR\u001b[0m Run sbujqwvs errored:\n",
      "\u001b[34m\u001b[1mwandb\u001b[0m: \u001b[32m\u001b[41mERROR\u001b[0m Traceback (most recent call last):\n",
      "\u001b[34m\u001b[1mwandb\u001b[0m: \u001b[32m\u001b[41mERROR\u001b[0m   File \"/home/cagri/.local/lib/python3.12/site-packages/wandb/agents/pyagent.py\", line 306, in _run_job\n",
      "\u001b[34m\u001b[1mwandb\u001b[0m: \u001b[32m\u001b[41mERROR\u001b[0m     self._function()\n",
      "\u001b[34m\u001b[1mwandb\u001b[0m: \u001b[32m\u001b[41mERROR\u001b[0m   File \"/tmp/ipykernel_960510/2086419514.py\", line 98, in sweep_prompt_eval\n",
      "\u001b[34m\u001b[1mwandb\u001b[0m: \u001b[32m\u001b[41mERROR\u001b[0m     base_model = AutoModelForCausalLM.from_pretrained(\n",
      "\u001b[34m\u001b[1mwandb\u001b[0m: \u001b[32m\u001b[41mERROR\u001b[0m                  ^^^^^^^^^^^^^^^^^^^^^^^^^^^^^^^^^^^^^\n",
      "\u001b[34m\u001b[1mwandb\u001b[0m: \u001b[32m\u001b[41mERROR\u001b[0m   File \"/home/cagri/.local/lib/python3.12/site-packages/transformers/models/auto/auto_factory.py\", line 571, in from_pretrained\n",
      "\u001b[34m\u001b[1mwandb\u001b[0m: \u001b[32m\u001b[41mERROR\u001b[0m     return model_class.from_pretrained(\n",
      "\u001b[34m\u001b[1mwandb\u001b[0m: \u001b[32m\u001b[41mERROR\u001b[0m            ^^^^^^^^^^^^^^^^^^^^^^^^^^^^\n",
      "\u001b[34m\u001b[1mwandb\u001b[0m: \u001b[32m\u001b[41mERROR\u001b[0m   File \"/home/cagri/.local/lib/python3.12/site-packages/transformers/modeling_utils.py\", line 309, in _wrapper\n",
      "\u001b[34m\u001b[1mwandb\u001b[0m: \u001b[32m\u001b[41mERROR\u001b[0m     return func(*args, **kwargs)\n",
      "\u001b[34m\u001b[1mwandb\u001b[0m: \u001b[32m\u001b[41mERROR\u001b[0m            ^^^^^^^^^^^^^^^^^^^^^\n",
      "\u001b[34m\u001b[1mwandb\u001b[0m: \u001b[32m\u001b[41mERROR\u001b[0m   File \"/home/cagri/.local/lib/python3.12/site-packages/transformers/modeling_utils.py\", line 4554, in from_pretrained\n",
      "\u001b[34m\u001b[1mwandb\u001b[0m: \u001b[32m\u001b[41mERROR\u001b[0m     device_map = _get_device_map(model, device_map, max_memory, hf_quantizer, torch_dtype, keep_in_fp32_regex)\n",
      "\u001b[34m\u001b[1mwandb\u001b[0m: \u001b[32m\u001b[41mERROR\u001b[0m                  ^^^^^^^^^^^^^^^^^^^^^^^^^^^^^^^^^^^^^^^^^^^^^^^^^^^^^^^^^^^^^^^^^^^^^^^^^^^^^^^^^^^^^^^^^^^^^\n",
      "\u001b[34m\u001b[1mwandb\u001b[0m: \u001b[32m\u001b[41mERROR\u001b[0m   File \"/home/cagri/.local/lib/python3.12/site-packages/transformers/modeling_utils.py\", line 1343, in _get_device_map\n",
      "\u001b[34m\u001b[1mwandb\u001b[0m: \u001b[32m\u001b[41mERROR\u001b[0m     hf_quantizer.validate_environment(device_map=device_map)\n",
      "\u001b[34m\u001b[1mwandb\u001b[0m: \u001b[32m\u001b[41mERROR\u001b[0m   File \"/home/cagri/.local/lib/python3.12/site-packages/transformers/quantizers/quantizer_bnb_4bit.py\", line 104, in validate_environment\n",
      "\u001b[34m\u001b[1mwandb\u001b[0m: \u001b[32m\u001b[41mERROR\u001b[0m     raise ValueError(\n",
      "\u001b[34m\u001b[1mwandb\u001b[0m: \u001b[32m\u001b[41mERROR\u001b[0m ValueError: Some modules are dispatched on the CPU or the disk. Make sure you have enough GPU RAM to fit the quantized model. If you want to dispatch the model on the CPU or the disk while keeping these modules in 32-bit, you need to set `llm_int8_enable_fp32_cpu_offload=True` and pass a custom `device_map` to `from_pretrained`. Check https://huggingface.co/docs/transformers/main/en/main_classes/quantization#offload-between-cpu-and-gpu for more details. \n",
      "\u001b[34m\u001b[1mwandb\u001b[0m: \u001b[32m\u001b[41mERROR\u001b[0m \n"
     ]
    }
   ],
   "source": [
    "sweep_id = wandb.sweep(sweep_config, project=\"tinyllama-fewshot\")\n",
    "wandb.agent(sweep_id, function=sweep_prompt_eval, count=12)"
   ]
  }
 ],
 "metadata": {
  "kernelspec": {
   "display_name": "Python 3 (ipykernel)",
   "language": "python",
   "name": "python3"
  },
  "language_info": {
   "codemirror_mode": {
    "name": "ipython",
    "version": 3
   },
   "file_extension": ".py",
   "mimetype": "text/x-python",
   "name": "python",
   "nbconvert_exporter": "python",
   "pygments_lexer": "ipython3",
   "version": "3.12.3"
  }
 },
 "nbformat": 4,
 "nbformat_minor": 5
}
